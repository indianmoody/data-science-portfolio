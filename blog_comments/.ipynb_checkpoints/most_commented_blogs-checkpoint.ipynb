{
 "cells": [
  {
   "cell_type": "markdown",
   "metadata": {},
   "source": [
    "### Predicts 10 blogs out of test data which are ging to receive most number of comments."
   ]
  },
  {
   "cell_type": "code",
   "execution_count": 1,
   "metadata": {
    "collapsed": true
   },
   "outputs": [],
   "source": [
    "import numpy as np\n",
    "import pandas as pd\n",
    "import matplotlib.pyplot as plt\n",
    "%matplotlib inline"
   ]
  },
  {
   "cell_type": "markdown",
   "metadata": {},
   "source": [
    "Load training data"
   ]
  },
  {
   "cell_type": "code",
   "execution_count": 2,
   "metadata": {
    "collapsed": true
   },
   "outputs": [],
   "source": [
    "df = pd.read_csv('/Users/gauravbishnoi/datas/blog_comments/blogData_train.csv', header=None)"
   ]
  },
  {
   "cell_type": "code",
   "execution_count": 3,
   "metadata": {
    "collapsed": false
   },
   "outputs": [
    {
     "data": {
      "text/html": [
       "<div>\n",
       "<style>\n",
       "    .dataframe thead tr:only-child th {\n",
       "        text-align: right;\n",
       "    }\n",
       "\n",
       "    .dataframe thead th {\n",
       "        text-align: left;\n",
       "    }\n",
       "\n",
       "    .dataframe tbody tr th {\n",
       "        vertical-align: top;\n",
       "    }\n",
       "</style>\n",
       "<table border=\"1\" class=\"dataframe\">\n",
       "  <thead>\n",
       "    <tr style=\"text-align: right;\">\n",
       "      <th></th>\n",
       "      <th>0</th>\n",
       "      <th>1</th>\n",
       "      <th>2</th>\n",
       "      <th>3</th>\n",
       "      <th>4</th>\n",
       "      <th>5</th>\n",
       "      <th>6</th>\n",
       "      <th>7</th>\n",
       "      <th>8</th>\n",
       "      <th>9</th>\n",
       "      <th>...</th>\n",
       "      <th>271</th>\n",
       "      <th>272</th>\n",
       "      <th>273</th>\n",
       "      <th>274</th>\n",
       "      <th>275</th>\n",
       "      <th>276</th>\n",
       "      <th>277</th>\n",
       "      <th>278</th>\n",
       "      <th>279</th>\n",
       "      <th>280</th>\n",
       "    </tr>\n",
       "  </thead>\n",
       "  <tbody>\n",
       "    <tr>\n",
       "      <th>0</th>\n",
       "      <td>40.30467</td>\n",
       "      <td>53.845657</td>\n",
       "      <td>0.0</td>\n",
       "      <td>401.0</td>\n",
       "      <td>15.0</td>\n",
       "      <td>15.52416</td>\n",
       "      <td>32.44188</td>\n",
       "      <td>0.0</td>\n",
       "      <td>377.0</td>\n",
       "      <td>3.0</td>\n",
       "      <td>...</td>\n",
       "      <td>0.0</td>\n",
       "      <td>1.0</td>\n",
       "      <td>0.0</td>\n",
       "      <td>0.0</td>\n",
       "      <td>0.0</td>\n",
       "      <td>0.0</td>\n",
       "      <td>0.0</td>\n",
       "      <td>0.0</td>\n",
       "      <td>0.0</td>\n",
       "      <td>1.0</td>\n",
       "    </tr>\n",
       "    <tr>\n",
       "      <th>1</th>\n",
       "      <td>40.30467</td>\n",
       "      <td>53.845657</td>\n",
       "      <td>0.0</td>\n",
       "      <td>401.0</td>\n",
       "      <td>15.0</td>\n",
       "      <td>15.52416</td>\n",
       "      <td>32.44188</td>\n",
       "      <td>0.0</td>\n",
       "      <td>377.0</td>\n",
       "      <td>3.0</td>\n",
       "      <td>...</td>\n",
       "      <td>1.0</td>\n",
       "      <td>0.0</td>\n",
       "      <td>0.0</td>\n",
       "      <td>0.0</td>\n",
       "      <td>0.0</td>\n",
       "      <td>0.0</td>\n",
       "      <td>0.0</td>\n",
       "      <td>0.0</td>\n",
       "      <td>0.0</td>\n",
       "      <td>0.0</td>\n",
       "    </tr>\n",
       "    <tr>\n",
       "      <th>2</th>\n",
       "      <td>40.30467</td>\n",
       "      <td>53.845657</td>\n",
       "      <td>0.0</td>\n",
       "      <td>401.0</td>\n",
       "      <td>15.0</td>\n",
       "      <td>15.52416</td>\n",
       "      <td>32.44188</td>\n",
       "      <td>0.0</td>\n",
       "      <td>377.0</td>\n",
       "      <td>3.0</td>\n",
       "      <td>...</td>\n",
       "      <td>1.0</td>\n",
       "      <td>0.0</td>\n",
       "      <td>0.0</td>\n",
       "      <td>0.0</td>\n",
       "      <td>0.0</td>\n",
       "      <td>0.0</td>\n",
       "      <td>0.0</td>\n",
       "      <td>0.0</td>\n",
       "      <td>0.0</td>\n",
       "      <td>0.0</td>\n",
       "    </tr>\n",
       "    <tr>\n",
       "      <th>3</th>\n",
       "      <td>40.30467</td>\n",
       "      <td>53.845657</td>\n",
       "      <td>0.0</td>\n",
       "      <td>401.0</td>\n",
       "      <td>15.0</td>\n",
       "      <td>15.52416</td>\n",
       "      <td>32.44188</td>\n",
       "      <td>0.0</td>\n",
       "      <td>377.0</td>\n",
       "      <td>3.0</td>\n",
       "      <td>...</td>\n",
       "      <td>0.0</td>\n",
       "      <td>1.0</td>\n",
       "      <td>0.0</td>\n",
       "      <td>0.0</td>\n",
       "      <td>0.0</td>\n",
       "      <td>0.0</td>\n",
       "      <td>0.0</td>\n",
       "      <td>0.0</td>\n",
       "      <td>0.0</td>\n",
       "      <td>1.0</td>\n",
       "    </tr>\n",
       "    <tr>\n",
       "      <th>4</th>\n",
       "      <td>40.30467</td>\n",
       "      <td>53.845657</td>\n",
       "      <td>0.0</td>\n",
       "      <td>401.0</td>\n",
       "      <td>15.0</td>\n",
       "      <td>15.52416</td>\n",
       "      <td>32.44188</td>\n",
       "      <td>0.0</td>\n",
       "      <td>377.0</td>\n",
       "      <td>3.0</td>\n",
       "      <td>...</td>\n",
       "      <td>0.0</td>\n",
       "      <td>1.0</td>\n",
       "      <td>0.0</td>\n",
       "      <td>0.0</td>\n",
       "      <td>0.0</td>\n",
       "      <td>0.0</td>\n",
       "      <td>0.0</td>\n",
       "      <td>0.0</td>\n",
       "      <td>0.0</td>\n",
       "      <td>27.0</td>\n",
       "    </tr>\n",
       "  </tbody>\n",
       "</table>\n",
       "<p>5 rows × 281 columns</p>\n",
       "</div>"
      ],
      "text/plain": [
       "        0          1    2      3     4         5         6    7      8    9    \\\n",
       "0  40.30467  53.845657  0.0  401.0  15.0  15.52416  32.44188  0.0  377.0  3.0   \n",
       "1  40.30467  53.845657  0.0  401.0  15.0  15.52416  32.44188  0.0  377.0  3.0   \n",
       "2  40.30467  53.845657  0.0  401.0  15.0  15.52416  32.44188  0.0  377.0  3.0   \n",
       "3  40.30467  53.845657  0.0  401.0  15.0  15.52416  32.44188  0.0  377.0  3.0   \n",
       "4  40.30467  53.845657  0.0  401.0  15.0  15.52416  32.44188  0.0  377.0  3.0   \n",
       "\n",
       "   ...   271  272  273  274  275  276  277  278  279   280  \n",
       "0  ...   0.0  1.0  0.0  0.0  0.0  0.0  0.0  0.0  0.0   1.0  \n",
       "1  ...   1.0  0.0  0.0  0.0  0.0  0.0  0.0  0.0  0.0   0.0  \n",
       "2  ...   1.0  0.0  0.0  0.0  0.0  0.0  0.0  0.0  0.0   0.0  \n",
       "3  ...   0.0  1.0  0.0  0.0  0.0  0.0  0.0  0.0  0.0   1.0  \n",
       "4  ...   0.0  1.0  0.0  0.0  0.0  0.0  0.0  0.0  0.0  27.0  \n",
       "\n",
       "[5 rows x 281 columns]"
      ]
     },
     "execution_count": 3,
     "metadata": {},
     "output_type": "execute_result"
    }
   ],
   "source": [
    "df.head()"
   ]
  },
  {
   "cell_type": "code",
   "execution_count": null,
   "metadata": {
    "collapsed": true
   },
   "outputs": [],
   "source": []
  },
  {
   "cell_type": "code",
   "execution_count": 4,
   "metadata": {
    "collapsed": true
   },
   "outputs": [],
   "source": [
    "from sklearn.model_selection import train_test_split"
   ]
  },
  {
   "cell_type": "code",
   "execution_count": 5,
   "metadata": {
    "collapsed": true
   },
   "outputs": [],
   "source": [
    "x_train, x_test, y_train, y_test = train_test_split(df.iloc[:,:-1], df.iloc[:,-1], test_size=0.1, random_state=42)"
   ]
  },
  {
   "cell_type": "code",
   "execution_count": 6,
   "metadata": {
    "collapsed": true
   },
   "outputs": [],
   "source": [
    "def try_ols(xtrain, xtest, ytrain, ytest):\n",
    "    from sklearn.linear_model import LinearRegression\n",
    "    ols = LinearRegression()\n",
    "    ols.fit(xtrain, ytrain)\n",
    "    ols_predictions = ols.predict(xtest)\n",
    "    top50_pred = ols_predictions.argsort()[-50:][::-1]\n",
    "    top50_test = ytest.values.argsort()[-50:][::-1]\n",
    "    print(\"top 10 score: {}\".format(sum(np.in1d(top50_pred[:10],top50_test[:10]))/10))\n",
    "    print(\"top 20 score: {}\".format(sum(np.in1d(top50_pred[:20],top50_test[:20]))/20))\n",
    "    print(\"top 50 score: {}\".format(sum(np.in1d(top50_pred,top50_test))/50))"
   ]
  },
  {
   "cell_type": "code",
   "execution_count": 7,
   "metadata": {
    "collapsed": false
   },
   "outputs": [
    {
     "name": "stdout",
     "output_type": "stream",
     "text": [
      "top 10 score: 0.2\n",
      "top 20 score: 0.35\n",
      "top 50 score: 0.48\n"
     ]
    }
   ],
   "source": [
    "try_ols(x_train, x_test, y_train, y_test)"
   ]
  },
  {
   "cell_type": "markdown",
   "metadata": {
    "collapsed": false
   },
   "source": [
    "Removing bag of words features."
   ]
  },
  {
   "cell_type": "code",
   "execution_count": 8,
   "metadata": {
    "collapsed": true
   },
   "outputs": [],
   "source": [
    "xtrain2, xtest2, ytrain2, ytest2 = train_test_split(df.iloc[:,:61], df.iloc[:,-1], test_size=0.1, random_state=42)"
   ]
  },
  {
   "cell_type": "code",
   "execution_count": 9,
   "metadata": {
    "collapsed": false
   },
   "outputs": [
    {
     "name": "stdout",
     "output_type": "stream",
     "text": [
      "top 10 score: 0.2\n",
      "top 20 score: 0.35\n",
      "top 50 score: 0.48\n"
     ]
    }
   ],
   "source": [
    "try_ols(xtrain2, xtest2, ytrain2, ytest2)"
   ]
  },
  {
   "cell_type": "markdown",
   "metadata": {
    "collapsed": true
   },
   "source": [
    "There is no effect of bag of words features on output"
   ]
  },
  {
   "cell_type": "code",
   "execution_count": null,
   "metadata": {
    "collapsed": true
   },
   "outputs": [],
   "source": []
  },
  {
   "cell_type": "markdown",
   "metadata": {},
   "source": [
    "Try Ridge Regression, it may perform better than ols because of collinearity among features (as shown in heatmap in 'blog_analysis_quick.ipynb')."
   ]
  },
  {
   "cell_type": "code",
   "execution_count": 10,
   "metadata": {
    "collapsed": true
   },
   "outputs": [],
   "source": [
    "def try_ridge(xtrain, xtest, ytrain, ytest):\n",
    "    from sklearn.linear_model import Ridge\n",
    "    from sklearn.model_selection import GridSearchCV\n",
    "    alps = [0.01, 0.1, 1, 10]\n",
    "    ridgegrid_param = {'alpha': alps}\n",
    "    ridge_grid = GridSearchCV(estimator=Ridge(), param_grid=ridgegrid_param, verbose=3)\n",
    "    ridge_grid.fit(xtrain, ytrain)\n",
    "    alp = ridge_grid.best_estimator_.alpha\n",
    "    \n",
    "    ridge = Ridge(alpha=alp)\n",
    "    ridge.fit(xtrain, ytrain)\n",
    "    ridge_predictions = ridge.predict(xtest)\n",
    "    ridge50_pred = ridge_predictions.argsort()[-50:][::-1]\n",
    "    ridge50_test = ytest.values.argsort()[-50:][::-1]\n",
    "    print(\"\\n\\n\")\n",
    "    print(\"top 10 score: {}\".format(sum(np.in1d(ridge50_pred[:10],ridge50_test[:10]))/10))\n",
    "    print(\"top 20 score: {}\".format(sum(np.in1d(ridge50_pred[:20],ridge50_test[:20]))/20))\n",
    "    print(\"top 50 score: {}\".format(sum(np.in1d(ridge50_pred,ridge50_test))/50))"
   ]
  },
  {
   "cell_type": "code",
   "execution_count": 11,
   "metadata": {
    "collapsed": false
   },
   "outputs": [
    {
     "name": "stdout",
     "output_type": "stream",
     "text": [
      "Fitting 3 folds for each of 4 candidates, totalling 12 fits\n",
      "[CV] alpha=0.01 ......................................................\n",
      "[CV] ....................... alpha=0.01, score=0.401313, total=   0.0s\n",
      "[CV] alpha=0.01 ......................................................\n",
      "[CV] ....................... alpha=0.01, score=0.349296, total=   0.0s\n",
      "[CV] alpha=0.01 ......................................................\n",
      "[CV] ....................... alpha=0.01, score=0.351982, total=   0.0s\n",
      "[CV] alpha=0.1 .......................................................\n",
      "[CV] ........................ alpha=0.1, score=0.401317, total=   0.0s\n",
      "[CV] alpha=0.1 .......................................................\n",
      "[CV] ........................ alpha=0.1, score=0.349300, total=   0.0s\n",
      "[CV] alpha=0.1 .......................................................\n"
     ]
    },
    {
     "name": "stderr",
     "output_type": "stream",
     "text": [
      "[Parallel(n_jobs=1)]: Done   1 out of   1 | elapsed:    0.0s remaining:    0.0s\n",
      "[Parallel(n_jobs=1)]: Done   2 out of   2 | elapsed:    0.1s remaining:    0.0s\n"
     ]
    },
    {
     "name": "stdout",
     "output_type": "stream",
     "text": [
      "[CV] ........................ alpha=0.1, score=0.351993, total=   0.0s\n",
      "[CV] alpha=1 .........................................................\n",
      "[CV] .......................... alpha=1, score=0.401355, total=   0.0s\n",
      "[CV] alpha=1 .........................................................\n",
      "[CV] .......................... alpha=1, score=0.349331, total=   0.0s\n",
      "[CV] alpha=1 .........................................................\n",
      "[CV] .......................... alpha=1, score=0.352048, total=   0.0s\n",
      "[CV] alpha=10 ........................................................\n",
      "[CV] ......................... alpha=10, score=0.401501, total=   0.0s\n",
      "[CV] alpha=10 ........................................................\n",
      "[CV] ......................... alpha=10, score=0.349422, total=   0.0s\n",
      "[CV] alpha=10 ........................................................\n",
      "[CV] ......................... alpha=10, score=0.352114, total=   0.0s\n",
      "\n",
      "\n",
      "\n",
      "top 10 score: 0.2\n",
      "top 20 score: 0.35\n",
      "top 50 score: 0.48\n"
     ]
    },
    {
     "name": "stderr",
     "output_type": "stream",
     "text": [
      "[Parallel(n_jobs=1)]: Done  12 out of  12 | elapsed:    0.5s finished\n"
     ]
    }
   ],
   "source": [
    "try_ridge(xtrain2, xtest2, ytrain2, ytest2)"
   ]
  },
  {
   "cell_type": "code",
   "execution_count": null,
   "metadata": {
    "collapsed": true
   },
   "outputs": [],
   "source": []
  },
  {
   "cell_type": "markdown",
   "metadata": {},
   "source": [
    "Ridge regression is giving similar results to OLS"
   ]
  },
  {
   "cell_type": "code",
   "execution_count": null,
   "metadata": {
    "collapsed": true
   },
   "outputs": [],
   "source": []
  },
  {
   "cell_type": "code",
   "execution_count": 12,
   "metadata": {
    "collapsed": true
   },
   "outputs": [],
   "source": [
    "def try_dtree(xtrain, xtest, ytrain, ytest):\n",
    "    from sklearn.tree import DecisionTreeRegressor\n",
    "    dtree = DecisionTreeRegressor()\n",
    "    dtree.fit(xtrain, ytrain)\n",
    "    dtree_predictions = dtree.predict(xtest)\n",
    "    dtree50_pred = dtree_predictions.argsort()[-50:][::-1]\n",
    "    dtree50_test = ytest.argsort()[-50:][::-1]\n",
    "    print(\"top 10 score: {}\".format(sum(np.in1d(dtree50_pred[:10],dtree50_test[:10]))/10))\n",
    "    print(\"top 20 score: {}\".format(sum(np.in1d(dtree50_pred[:20],dtree50_test[:20]))/20))\n",
    "    print(\"top 50 score: {}\".format(sum(np.in1d(dtree50_pred,dtree50_test))/50))"
   ]
  },
  {
   "cell_type": "code",
   "execution_count": 13,
   "metadata": {
    "collapsed": false
   },
   "outputs": [
    {
     "name": "stdout",
     "output_type": "stream",
     "text": [
      "top 10 score: 0.4\n",
      "top 20 score: 0.35\n",
      "top 50 score: 0.5\n"
     ]
    }
   ],
   "source": [
    "try_dtree(xtrain2, xtest2, ytrain2, ytest2)"
   ]
  },
  {
   "cell_type": "code",
   "execution_count": 14,
   "metadata": {
    "collapsed": false
   },
   "outputs": [
    {
     "name": "stdout",
     "output_type": "stream",
     "text": [
      "top 10 score: 0.2\n",
      "top 20 score: 0.5\n",
      "top 50 score: 0.44\n"
     ]
    }
   ],
   "source": [
    "try_dtree(x_train, x_test, y_train, y_test)"
   ]
  },
  {
   "cell_type": "code",
   "execution_count": null,
   "metadata": {
    "collapsed": true
   },
   "outputs": [],
   "source": []
  },
  {
   "cell_type": "code",
   "execution_count": null,
   "metadata": {
    "collapsed": true
   },
   "outputs": [],
   "source": []
  },
  {
   "cell_type": "code",
   "execution_count": 28,
   "metadata": {
    "collapsed": true
   },
   "outputs": [],
   "source": [
    "def try_rfr(xtrain, xtest, ytrain, ytest):\n",
    "    from sklearn.ensemble import RandomForestRegressor\n",
    "    rfr = RandomForestRegressor(n_estimators=20)\n",
    "    rfr.fit(xtrain, ytrain)\n",
    "    rfr_predictions = rfr.predict(xtest)\n",
    "    rfr50_pred = rfr_predictions.argsort()[-50:][::-1]\n",
    "    rfr50_test = ytest.argsort()[-50:][::-1]\n",
    "    print(\"top 10 score: {}\".format(sum(np.in1d(rfr50_pred[:10],rfr50_test[:10]))/10))\n",
    "    print(\"top 20 score: {}\".format(sum(np.in1d(rfr50_pred[:20],rfr50_test[:20]))/20))\n",
    "    print(\"top 50 score: {}\".format(sum(np.in1d(rfr50_pred,rfr50_test))/50))"
   ]
  },
  {
   "cell_type": "code",
   "execution_count": 29,
   "metadata": {
    "collapsed": false
   },
   "outputs": [
    {
     "name": "stdout",
     "output_type": "stream",
     "text": [
      "top 10 score: 0.4\n",
      "top 20 score: 0.45\n",
      "top 50 score: 0.44\n"
     ]
    }
   ],
   "source": [
    "try_rfr(xtrain2, xtest2, ytrain2, ytest2)"
   ]
  },
  {
   "cell_type": "code",
   "execution_count": null,
   "metadata": {
    "collapsed": true
   },
   "outputs": [],
   "source": []
  },
  {
   "cell_type": "code",
   "execution_count": null,
   "metadata": {
    "collapsed": true
   },
   "outputs": [],
   "source": []
  },
  {
   "cell_type": "code",
   "execution_count": null,
   "metadata": {
    "collapsed": true
   },
   "outputs": [],
   "source": []
  },
  {
   "cell_type": "code",
   "execution_count": null,
   "metadata": {
    "collapsed": true
   },
   "outputs": [],
   "source": []
  },
  {
   "cell_type": "code",
   "execution_count": null,
   "metadata": {
    "collapsed": true
   },
   "outputs": [],
   "source": []
  },
  {
   "cell_type": "code",
   "execution_count": 21,
   "metadata": {
    "collapsed": true
   },
   "outputs": [],
   "source": [
    "from sklearn.ensemble import RandomForestRegressor"
   ]
  },
  {
   "cell_type": "code",
   "execution_count": 31,
   "metadata": {
    "collapsed": true
   },
   "outputs": [],
   "source": [
    "rfr = RandomForestRegressor(n_estimators=25)"
   ]
  },
  {
   "cell_type": "code",
   "execution_count": null,
   "metadata": {
    "collapsed": false
   },
   "outputs": [],
   "source": [
    "rfr.fit(xtrain2, ytrain2)"
   ]
  },
  {
   "cell_type": "code",
   "execution_count": 30,
   "metadata": {
    "collapsed": false
   },
   "outputs": [
    {
     "name": "stdout",
     "output_type": "stream",
     "text": [
      "top 10 score: 0.4\n",
      "top 20 score: 0.55\n",
      "top 50 score: 0.52\n"
     ]
    }
   ],
   "source": [
    "rfr_predictions = rfr.predict(xtest2)\n",
    "rfr50_pred = rfr_predictions.argsort()[-50:][::-1]\n",
    "rfr50_test = ytest2.argsort()[-50:][::-1]\n",
    "print(\"top 10 score: {}\".format(sum(np.in1d(rfr50_pred[:10],rfr50_test[:10]))/10))\n",
    "print(\"top 20 score: {}\".format(sum(np.in1d(rfr50_pred[:20],rfr50_test[:20]))/20))\n",
    "print(\"top 50 score: {}\".format(sum(np.in1d(rfr50_pred,rfr50_test))/50))"
   ]
  },
  {
   "cell_type": "code",
   "execution_count": null,
   "metadata": {
    "collapsed": true
   },
   "outputs": [],
   "source": []
  },
  {
   "cell_type": "code",
   "execution_count": null,
   "metadata": {
    "collapsed": true
   },
   "outputs": [],
   "source": []
  },
  {
   "cell_type": "code",
   "execution_count": null,
   "metadata": {
    "collapsed": true
   },
   "outputs": [],
   "source": []
  },
  {
   "cell_type": "code",
   "execution_count": 100,
   "metadata": {
    "collapsed": false
   },
   "outputs": [
    {
     "data": {
      "text/plain": [
       "'\\ndtree_scaler = StandardScaler()\\nxtrain_dtree = dtree_scaler.fit_transform(x_train)\\nxtest_dtree = dtree_scaler.transform(x_test)\\ndtree_scaler_y = StandardScaler()\\nytrain_dtree = dtree_scaler_y.fit_transform(ytrain2.values.reshape(-1,1))\\nytest_dtree = dtree_scaler_y.transform(ytest2.values.reshape(-1,1))\\n'"
      ]
     },
     "execution_count": 100,
     "metadata": {},
     "output_type": "execute_result"
    }
   ],
   "source": [
    "'''\n",
    "dtree_scaler = StandardScaler()\n",
    "xtrain_dtree = dtree_scaler.fit_transform(x_train)\n",
    "xtest_dtree = dtree_scaler.transform(x_test)\n",
    "dtree_scaler_y = StandardScaler()\n",
    "ytrain_dtree = dtree_scaler_y.fit_transform(ytrain2.values.reshape(-1,1))\n",
    "ytest_dtree = dtree_scaler_y.transform(ytest2.values.reshape(-1,1))\n",
    "'''"
   ]
  }
 ],
 "metadata": {
  "kernelspec": {
   "display_name": "Python 3",
   "language": "python",
   "name": "python3"
  },
  "language_info": {
   "codemirror_mode": {
    "name": "ipython",
    "version": 3
   },
   "file_extension": ".py",
   "mimetype": "text/x-python",
   "name": "python",
   "nbconvert_exporter": "python",
   "pygments_lexer": "ipython3",
   "version": "3.6.0"
  }
 },
 "nbformat": 4,
 "nbformat_minor": 2
}
