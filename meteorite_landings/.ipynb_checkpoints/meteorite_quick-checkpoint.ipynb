{
 "cells": [
  {
   "cell_type": "code",
   "execution_count": 1,
   "metadata": {
    "collapsed": true
   },
   "outputs": [],
   "source": [
    "import numpy as np\n",
    "import pandas as pd\n",
    "import matplotlib.pyplot as plt\n",
    "import seaborn as sns\n",
    "%matplotlib inline"
   ]
  },
  {
   "cell_type": "code",
   "execution_count": 2,
   "metadata": {
    "collapsed": true
   },
   "outputs": [],
   "source": [
    "mdf = pd.read_csv('data/meteorite-landings.csv')"
   ]
  },
  {
   "cell_type": "code",
   "execution_count": 3,
   "metadata": {
    "collapsed": false
   },
   "outputs": [
    {
     "data": {
      "text/html": [
       "<div>\n",
       "<style scoped>\n",
       "    .dataframe tbody tr th:only-of-type {\n",
       "        vertical-align: middle;\n",
       "    }\n",
       "\n",
       "    .dataframe tbody tr th {\n",
       "        vertical-align: top;\n",
       "    }\n",
       "\n",
       "    .dataframe thead th {\n",
       "        text-align: right;\n",
       "    }\n",
       "</style>\n",
       "<table border=\"1\" class=\"dataframe\">\n",
       "  <thead>\n",
       "    <tr style=\"text-align: right;\">\n",
       "      <th></th>\n",
       "      <th>name</th>\n",
       "      <th>id</th>\n",
       "      <th>nametype</th>\n",
       "      <th>recclass</th>\n",
       "      <th>mass</th>\n",
       "      <th>fall</th>\n",
       "      <th>year</th>\n",
       "      <th>reclat</th>\n",
       "      <th>reclong</th>\n",
       "      <th>GeoLocation</th>\n",
       "    </tr>\n",
       "  </thead>\n",
       "  <tbody>\n",
       "    <tr>\n",
       "      <th>43602</th>\n",
       "      <td>Yamato 980162</td>\n",
       "      <td>36788</td>\n",
       "      <td>Valid</td>\n",
       "      <td>H6</td>\n",
       "      <td>7.431</td>\n",
       "      <td>Found</td>\n",
       "      <td>1998.0</td>\n",
       "      <td>NaN</td>\n",
       "      <td>NaN</td>\n",
       "      <td>NaN</td>\n",
       "    </tr>\n",
       "    <tr>\n",
       "      <th>26050</th>\n",
       "      <td>Miller Range 090980</td>\n",
       "      <td>55243</td>\n",
       "      <td>Valid</td>\n",
       "      <td>Ureilite</td>\n",
       "      <td>98.100</td>\n",
       "      <td>Found</td>\n",
       "      <td>2009.0</td>\n",
       "      <td>0.00</td>\n",
       "      <td>0.00000</td>\n",
       "      <td>(0.000000, 0.000000)</td>\n",
       "    </tr>\n",
       "    <tr>\n",
       "      <th>43600</th>\n",
       "      <td>Yamato 980160</td>\n",
       "      <td>36786</td>\n",
       "      <td>Valid</td>\n",
       "      <td>H5</td>\n",
       "      <td>110.320</td>\n",
       "      <td>Found</td>\n",
       "      <td>1998.0</td>\n",
       "      <td>NaN</td>\n",
       "      <td>NaN</td>\n",
       "      <td>NaN</td>\n",
       "    </tr>\n",
       "    <tr>\n",
       "      <th>26604</th>\n",
       "      <td>Northwest Africa 1232</td>\n",
       "      <td>32147</td>\n",
       "      <td>Valid</td>\n",
       "      <td>CO3</td>\n",
       "      <td>1900.000</td>\n",
       "      <td>Found</td>\n",
       "      <td>2001.0</td>\n",
       "      <td>NaN</td>\n",
       "      <td>NaN</td>\n",
       "      <td>NaN</td>\n",
       "    </tr>\n",
       "    <tr>\n",
       "      <th>17462</th>\n",
       "      <td>Landreth Draw</td>\n",
       "      <td>12459</td>\n",
       "      <td>Valid</td>\n",
       "      <td>H5</td>\n",
       "      <td>NaN</td>\n",
       "      <td>Found</td>\n",
       "      <td>1955.0</td>\n",
       "      <td>37.25</td>\n",
       "      <td>-98.13333</td>\n",
       "      <td>(37.250000, -98.133330)</td>\n",
       "    </tr>\n",
       "  </tbody>\n",
       "</table>\n",
       "</div>"
      ],
      "text/plain": [
       "                        name     id nametype  recclass      mass   fall  \\\n",
       "43602          Yamato 980162  36788    Valid        H6     7.431  Found   \n",
       "26050    Miller Range 090980  55243    Valid  Ureilite    98.100  Found   \n",
       "43600          Yamato 980160  36786    Valid        H5   110.320  Found   \n",
       "26604  Northwest Africa 1232  32147    Valid       CO3  1900.000  Found   \n",
       "17462          Landreth Draw  12459    Valid        H5       NaN  Found   \n",
       "\n",
       "         year  reclat   reclong              GeoLocation  \n",
       "43602  1998.0     NaN       NaN                      NaN  \n",
       "26050  2009.0    0.00   0.00000     (0.000000, 0.000000)  \n",
       "43600  1998.0     NaN       NaN                      NaN  \n",
       "26604  2001.0     NaN       NaN                      NaN  \n",
       "17462  1955.0   37.25 -98.13333  (37.250000, -98.133330)  "
      ]
     },
     "execution_count": 3,
     "metadata": {},
     "output_type": "execute_result"
    }
   ],
   "source": [
    "mdf.sample(5)"
   ]
  },
  {
   "cell_type": "code",
   "execution_count": null,
   "metadata": {
    "collapsed": true
   },
   "outputs": [],
   "source": []
  },
  {
   "cell_type": "code",
   "execution_count": 4,
   "metadata": {
    "collapsed": false
   },
   "outputs": [
    {
     "name": "stdout",
     "output_type": "stream",
     "text": [
      "<class 'pandas.core.frame.DataFrame'>\n",
      "RangeIndex: 45716 entries, 0 to 45715\n",
      "Data columns (total 10 columns):\n",
      "name           45716 non-null object\n",
      "id             45716 non-null int64\n",
      "nametype       45716 non-null object\n",
      "recclass       45716 non-null object\n",
      "mass           45585 non-null float64\n",
      "fall           45716 non-null object\n",
      "year           45428 non-null float64\n",
      "reclat         38401 non-null float64\n",
      "reclong        38401 non-null float64\n",
      "GeoLocation    38401 non-null object\n",
      "dtypes: float64(4), int64(1), object(5)\n",
      "memory usage: 3.5+ MB\n"
     ]
    }
   ],
   "source": [
    "mdf.info()"
   ]
  },
  {
   "cell_type": "code",
   "execution_count": 12,
   "metadata": {
    "collapsed": false
   },
   "outputs": [
    {
     "data": {
      "text/plain": [
       "name            0.000000\n",
       "id              0.000000\n",
       "nametype        0.000000\n",
       "recclass        0.000000\n",
       "mass            0.286552\n",
       "fall            0.000000\n",
       "year            0.629976\n",
       "reclat         16.000962\n",
       "reclong        16.000962\n",
       "GeoLocation    16.000962\n",
       "dtype: float64"
      ]
     },
     "execution_count": 12,
     "metadata": {},
     "output_type": "execute_result"
    }
   ],
   "source": [
    "(mdf.isnull().sum()/mdf.shape[0])*100"
   ]
  },
  {
   "cell_type": "code",
   "execution_count": null,
   "metadata": {
    "collapsed": false
   },
   "outputs": [],
   "source": []
  },
  {
   "cell_type": "code",
   "execution_count": null,
   "metadata": {
    "collapsed": true
   },
   "outputs": [],
   "source": []
  }
 ],
 "metadata": {
  "kernelspec": {
   "display_name": "Python 3",
   "language": "python",
   "name": "python3"
  },
  "language_info": {
   "codemirror_mode": {
    "name": "ipython",
    "version": 3
   },
   "file_extension": ".py",
   "mimetype": "text/x-python",
   "name": "python",
   "nbconvert_exporter": "python",
   "pygments_lexer": "ipython3",
   "version": "3.6.0"
  }
 },
 "nbformat": 4,
 "nbformat_minor": 2
}
