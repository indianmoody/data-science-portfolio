{
 "cells": [
  {
   "cell_type": "code",
   "execution_count": 1,
   "metadata": {
    "collapsed": true
   },
   "outputs": [],
   "source": [
    "import numpy as np\n",
    "import pandas as pd\n",
    "import matplotlib.pyplot as plt\n",
    "import seaborn as sns\n",
    "%matplotlib inline"
   ]
  },
  {
   "cell_type": "code",
   "execution_count": 2,
   "metadata": {
    "collapsed": false
   },
   "outputs": [
    {
     "data": {
      "text/html": [
       "<div>\n",
       "<style scoped>\n",
       "    .dataframe tbody tr th:only-of-type {\n",
       "        vertical-align: middle;\n",
       "    }\n",
       "\n",
       "    .dataframe tbody tr th {\n",
       "        vertical-align: top;\n",
       "    }\n",
       "\n",
       "    .dataframe thead th {\n",
       "        text-align: right;\n",
       "    }\n",
       "</style>\n",
       "<table border=\"1\" class=\"dataframe\">\n",
       "  <thead>\n",
       "    <tr style=\"text-align: right;\">\n",
       "      <th></th>\n",
       "      <th>name</th>\n",
       "      <th>id</th>\n",
       "      <th>nametype</th>\n",
       "      <th>recclass</th>\n",
       "      <th>mass</th>\n",
       "      <th>fall</th>\n",
       "      <th>year</th>\n",
       "      <th>reclat</th>\n",
       "      <th>reclong</th>\n",
       "      <th>GeoLocation</th>\n",
       "    </tr>\n",
       "  </thead>\n",
       "  <tbody>\n",
       "    <tr>\n",
       "      <th>29853</th>\n",
       "      <td>Yamato 792789</td>\n",
       "      <td>28138</td>\n",
       "      <td>Valid</td>\n",
       "      <td>LL4</td>\n",
       "      <td>8.81</td>\n",
       "      <td>Found</td>\n",
       "      <td>1979.0</td>\n",
       "      <td>-71.50000</td>\n",
       "      <td>35.66667</td>\n",
       "      <td>(-71.500000, 35.666670)</td>\n",
       "    </tr>\n",
       "    <tr>\n",
       "      <th>4010</th>\n",
       "      <td>Asuka 881061</td>\n",
       "      <td>3770</td>\n",
       "      <td>Valid</td>\n",
       "      <td>H4</td>\n",
       "      <td>1244.18</td>\n",
       "      <td>Found</td>\n",
       "      <td>1988.0</td>\n",
       "      <td>-72.00000</td>\n",
       "      <td>26.00000</td>\n",
       "      <td>(-72.000000, 26.000000)</td>\n",
       "    </tr>\n",
       "    <tr>\n",
       "      <th>19161</th>\n",
       "      <td>Meteorite Hills 00875</td>\n",
       "      <td>16109</td>\n",
       "      <td>Valid</td>\n",
       "      <td>H5</td>\n",
       "      <td>12.30</td>\n",
       "      <td>Found</td>\n",
       "      <td>2000.0</td>\n",
       "      <td>-79.68333</td>\n",
       "      <td>159.75000</td>\n",
       "      <td>(-79.683330, 159.750000)</td>\n",
       "    </tr>\n",
       "    <tr>\n",
       "      <th>15570</th>\n",
       "      <td>Jiddat al Harasis 575</td>\n",
       "      <td>51917</td>\n",
       "      <td>Valid</td>\n",
       "      <td>H6</td>\n",
       "      <td>190.40</td>\n",
       "      <td>Found</td>\n",
       "      <td>2009.0</td>\n",
       "      <td>19.75988</td>\n",
       "      <td>56.28608</td>\n",
       "      <td>(19.759880, 56.286080)</td>\n",
       "    </tr>\n",
       "    <tr>\n",
       "      <th>6591</th>\n",
       "      <td>Daraj 139</td>\n",
       "      <td>6594</td>\n",
       "      <td>Valid</td>\n",
       "      <td>H5</td>\n",
       "      <td>244.00</td>\n",
       "      <td>Found</td>\n",
       "      <td>1986.0</td>\n",
       "      <td>29.58333</td>\n",
       "      <td>11.78333</td>\n",
       "      <td>(29.583330, 11.783330)</td>\n",
       "    </tr>\n",
       "  </tbody>\n",
       "</table>\n",
       "</div>"
      ],
      "text/plain": [
       "                        name     id nametype recclass     mass   fall    year  \\\n",
       "29853          Yamato 792789  28138    Valid      LL4     8.81  Found  1979.0   \n",
       "4010            Asuka 881061   3770    Valid       H4  1244.18  Found  1988.0   \n",
       "19161  Meteorite Hills 00875  16109    Valid       H5    12.30  Found  2000.0   \n",
       "15570  Jiddat al Harasis 575  51917    Valid       H6   190.40  Found  2009.0   \n",
       "6591               Daraj 139   6594    Valid       H5   244.00  Found  1986.0   \n",
       "\n",
       "         reclat    reclong               GeoLocation  \n",
       "29853 -71.50000   35.66667   (-71.500000, 35.666670)  \n",
       "4010  -72.00000   26.00000   (-72.000000, 26.000000)  \n",
       "19161 -79.68333  159.75000  (-79.683330, 159.750000)  \n",
       "15570  19.75988   56.28608    (19.759880, 56.286080)  \n",
       "6591   29.58333   11.78333    (29.583330, 11.783330)  "
      ]
     },
     "execution_count": 2,
     "metadata": {},
     "output_type": "execute_result"
    }
   ],
   "source": [
    "df = pd.read_csv('data/meteorite-cleaned.csv')\n",
    "df.sample(5)"
   ]
  },
  {
   "cell_type": "markdown",
   "metadata": {},
   "source": [
    "Meteors over the years"
   ]
  },
  {
   "cell_type": "code",
   "execution_count": 3,
   "metadata": {
    "collapsed": false
   },
   "outputs": [
    {
     "data": {
      "text/plain": [
       "<matplotlib.axes._subplots.AxesSubplot at 0x10cdbc3c8>"
      ]
     },
     "execution_count": 3,
     "metadata": {},
     "output_type": "execute_result"
    },
    {
     "data": {
      "image/png": "[encoded data removed]",
      "text/plain": [
       "<matplotlib.figure.Figure at 0x10ce26f60>"
      ]
     },
     "metadata": {},
     "output_type": "display_data"
    }
   ],
   "source": [
    "plt.figure(figsize=(14,8))\n",
    "sns.distplot(df['year'], kde=False)"
   ]
  },
  {
   "cell_type": "code",
   "execution_count": 4,
   "metadata": {
    "collapsed": false
   },
   "outputs": [
    {
     "data": {
      "text/plain": [
       "<matplotlib.axes._subplots.AxesSubplot at 0x10c0db0f0>"
      ]
     },
     "execution_count": 4,
     "metadata": {},
     "output_type": "execute_result"
    },
    {
     "data": {
      "image/png": "[encoded data removed]",
      "text/plain": [
       "<matplotlib.figure.Figure at 0x10c0db400>"
      ]
     },
     "metadata": {},
     "output_type": "display_data"
    }
   ],
   "source": [
    "plt.figure(figsize=(14,8))\n",
    "sns.distplot(df[df['year']>1800]['year'], kde=False)"
   ]
  },
  {
   "cell_type": "code",
   "execution_count": 5,
   "metadata": {
    "collapsed": true
   },
   "outputs": [],
   "source": [
    "import plotly\n"
   ]
  },
  {
   "cell_type": "code",
   "execution_count": 6,
   "metadata": {
    "collapsed": true
   },
   "outputs": [],
   "source": [
    "from plotly.graph_objs import Scatter, Layout"
   ]
  },
  {
   "cell_type": "code",
   "execution_count": 7,
   "metadata": {
    "collapsed": false
   },
   "outputs": [
    {
     "data": {
      "text/html": [
       "<script>requirejs.config({paths: { 'plotly': ['https://cdn.plot.ly/plotly-latest.min']},});if(!window.Plotly) {{require(['plotly'],function(plotly) {window.Plotly=plotly;});}}</script>"
      ],
      "text/vnd.plotly.v1+html": [
       "<script>requirejs.config({paths: { 'plotly': ['https://cdn.plot.ly/plotly-latest.min']},});if(!window.Plotly) {{require(['plotly'],function(plotly) {window.Plotly=plotly;});}}</script>"
      ]
     },
     "metadata": {},
     "output_type": "display_data"
    }
   ],
   "source": [
    "plotly.offline.init_notebook_mode(connected=True)"
   ]
  },
  {
   "cell_type": "code",
   "execution_count": 8,
   "metadata": {
    "collapsed": true
   },
   "outputs": [],
   "source": [
    "import plotly.graph_objs as go"
   ]
  },
  {
   "cell_type": "code",
   "execution_count": 9,
   "metadata": {
    "collapsed": false
   },
   "outputs": [],
   "source": [
    "df2 = df[:100]"
   ]
  },
  {
   "cell_type": "code",
   "execution_count": 27,
   "metadata": {
    "collapsed": true
   },
   "outputs": [],
   "source": [
    "meteo = go.Scattergeo(\n",
    "    #type = 'scattergeo',\n",
    "    #locationmode\n",
    "    lon = df2['reclong'],\n",
    "    lat = df2['reclat'],\n",
    "    text = df2['name'],\n",
    "    marker = dict(\n",
    "        size = df2['mass']/10000000,\n",
    "        line = dict(width=0.5, color='rgb(40,40,40)'),\n",
    "        #sizemode = 'area'\n",
    "    )\n",
    ")\n",
    "\n",
    "layout = go.Layout(\n",
    "    title = \"meteorites landings\",\n",
    "    geo = dict(\n",
    "        projection=dict( type='Mercator' ),\n",
    "        showland = True,\n",
    "        landcolor = 'rgb(217, 217, 217)'\n",
    "    )\n",
    "    \n",
    ")"
   ]
  },
  {
   "cell_type": "code",
   "execution_count": 28,
   "metadata": {
    "collapsed": false
   },
   "outputs": [
    {
     "ename": "PlotlyDictValueError",
     "evalue": "'data' has invalid value inside 'figure'\n\nPath To Error: ['data']\n\nCurrent path: []\nCurrent parent object_names: []\n\nAdditionally:\n\n    role: object\n\n",
     "output_type": "error",
     "traceback": [
      "\u001b[0;31m---------------------------------------------------------------------------\u001b[0m",
      "\u001b[0;31mPlotlyDictValueError\u001b[0m                      Traceback (most recent call last)",
      "\u001b[0;32m<ipython-input-28-4d81a890a529>\u001b[0m in \u001b[0;36m<module>\u001b[0;34m()\u001b[0m\n\u001b[0;32m----> 1\u001b[0;31m \u001b[0mpfig\u001b[0m \u001b[0;34m=\u001b[0m \u001b[0mgo\u001b[0m\u001b[0;34m.\u001b[0m\u001b[0mFigure\u001b[0m\u001b[0;34m(\u001b[0m\u001b[0mdata\u001b[0m \u001b[0;34m=\u001b[0m \u001b[0mmeteo\u001b[0m\u001b[0;34m,\u001b[0m \u001b[0mlayout\u001b[0m \u001b[0;34m=\u001b[0m \u001b[0mlayout\u001b[0m\u001b[0;34m)\u001b[0m\u001b[0;34m\u001b[0m\u001b[0m\n\u001b[0m\u001b[1;32m      2\u001b[0m \u001b[0mplotly\u001b[0m\u001b[0;34m.\u001b[0m\u001b[0moffline\u001b[0m\u001b[0;34m.\u001b[0m\u001b[0miplot\u001b[0m\u001b[0;34m(\u001b[0m\u001b[0mpfig\u001b[0m\u001b[0;34m,\u001b[0m \u001b[0mvalidate\u001b[0m\u001b[0;34m=\u001b[0m\u001b[0;32mFalse\u001b[0m\u001b[0;34m)\u001b[0m\u001b[0;34m\u001b[0m\u001b[0m\n",
      "\u001b[0;32m/anaconda/lib/python3.6/site-packages/plotly/graph_objs/graph_objs.py\u001b[0m in \u001b[0;36m__init__\u001b[0;34m(self, *args, **kwargs)\u001b[0m\n\u001b[1;32m   1161\u001b[0m \u001b[0;34m\u001b[0m\u001b[0m\n\u001b[1;32m   1162\u001b[0m     \u001b[0;32mdef\u001b[0m \u001b[0m__init__\u001b[0m\u001b[0;34m(\u001b[0m\u001b[0mself\u001b[0m\u001b[0;34m,\u001b[0m \u001b[0;34m*\u001b[0m\u001b[0margs\u001b[0m\u001b[0;34m,\u001b[0m \u001b[0;34m**\u001b[0m\u001b[0mkwargs\u001b[0m\u001b[0;34m)\u001b[0m\u001b[0;34m:\u001b[0m\u001b[0;34m\u001b[0m\u001b[0m\n\u001b[0;32m-> 1163\u001b[0;31m         \u001b[0msuper\u001b[0m\u001b[0;34m(\u001b[0m\u001b[0mFigure\u001b[0m\u001b[0;34m,\u001b[0m \u001b[0mself\u001b[0m\u001b[0;34m)\u001b[0m\u001b[0;34m.\u001b[0m\u001b[0m__init__\u001b[0m\u001b[0;34m(\u001b[0m\u001b[0;34m*\u001b[0m\u001b[0margs\u001b[0m\u001b[0;34m,\u001b[0m \u001b[0;34m**\u001b[0m\u001b[0mkwargs\u001b[0m\u001b[0;34m)\u001b[0m\u001b[0;34m\u001b[0m\u001b[0m\n\u001b[0m\u001b[1;32m   1164\u001b[0m         \u001b[0;32mif\u001b[0m \u001b[0;34m'data'\u001b[0m \u001b[0;32mnot\u001b[0m \u001b[0;32min\u001b[0m \u001b[0mself\u001b[0m\u001b[0;34m:\u001b[0m\u001b[0;34m\u001b[0m\u001b[0m\n\u001b[1;32m   1165\u001b[0m             \u001b[0mself\u001b[0m\u001b[0;34m.\u001b[0m\u001b[0mdata\u001b[0m \u001b[0;34m=\u001b[0m \u001b[0mData\u001b[0m\u001b[0;34m(\u001b[0m\u001b[0m_parent\u001b[0m\u001b[0;34m=\u001b[0m\u001b[0mself\u001b[0m\u001b[0;34m,\u001b[0m \u001b[0m_parent_key\u001b[0m\u001b[0;34m=\u001b[0m\u001b[0;34m'data'\u001b[0m\u001b[0;34m)\u001b[0m\u001b[0;34m\u001b[0m\u001b[0m\n",
      "\u001b[0;32m/anaconda/lib/python3.6/site-packages/plotly/graph_objs/graph_objs.py\u001b[0m in \u001b[0;36m__init__\u001b[0;34m(self, *args, **kwargs)\u001b[0m\n\u001b[1;32m    375\u001b[0m         \u001b[0md\u001b[0m \u001b[0;34m=\u001b[0m \u001b[0;34m{\u001b[0m\u001b[0mkey\u001b[0m\u001b[0;34m:\u001b[0m \u001b[0mval\u001b[0m \u001b[0;32mfor\u001b[0m \u001b[0mkey\u001b[0m\u001b[0;34m,\u001b[0m \u001b[0mval\u001b[0m \u001b[0;32min\u001b[0m \u001b[0mdict\u001b[0m\u001b[0;34m(\u001b[0m\u001b[0;34m*\u001b[0m\u001b[0margs\u001b[0m\u001b[0;34m,\u001b[0m \u001b[0;34m**\u001b[0m\u001b[0mkwargs\u001b[0m\u001b[0;34m)\u001b[0m\u001b[0;34m.\u001b[0m\u001b[0mitems\u001b[0m\u001b[0;34m(\u001b[0m\u001b[0;34m)\u001b[0m\u001b[0;34m}\u001b[0m\u001b[0;34m\u001b[0m\u001b[0m\n\u001b[1;32m    376\u001b[0m         \u001b[0;32mfor\u001b[0m \u001b[0mkey\u001b[0m\u001b[0;34m,\u001b[0m \u001b[0mval\u001b[0m \u001b[0;32min\u001b[0m \u001b[0md\u001b[0m\u001b[0;34m.\u001b[0m\u001b[0mitems\u001b[0m\u001b[0;34m(\u001b[0m\u001b[0;34m)\u001b[0m\u001b[0;34m:\u001b[0m\u001b[0;34m\u001b[0m\u001b[0m\n\u001b[0;32m--> 377\u001b[0;31m             \u001b[0mself\u001b[0m\u001b[0;34m.\u001b[0m\u001b[0m__setitem__\u001b[0m\u001b[0;34m(\u001b[0m\u001b[0mkey\u001b[0m\u001b[0;34m,\u001b[0m \u001b[0mval\u001b[0m\u001b[0;34m,\u001b[0m \u001b[0m_raise\u001b[0m\u001b[0;34m=\u001b[0m\u001b[0m_raise\u001b[0m\u001b[0;34m)\u001b[0m\u001b[0;34m\u001b[0m\u001b[0m\n\u001b[0m\u001b[1;32m    378\u001b[0m \u001b[0;34m\u001b[0m\u001b[0m\n\u001b[1;32m    379\u001b[0m     \u001b[0;32mdef\u001b[0m \u001b[0m__dir__\u001b[0m\u001b[0;34m(\u001b[0m\u001b[0mself\u001b[0m\u001b[0;34m)\u001b[0m\u001b[0;34m:\u001b[0m\u001b[0;34m\u001b[0m\u001b[0m\n",
      "\u001b[0;32m/anaconda/lib/python3.6/site-packages/plotly/graph_objs/graph_objs.py\u001b[0m in \u001b[0;36m__setitem__\u001b[0;34m(self, key, value, _raise)\u001b[0m\n\u001b[1;32m    430\u001b[0m \u001b[0;34m\u001b[0m\u001b[0m\n\u001b[1;32m    431\u001b[0m         \u001b[0;32mif\u001b[0m \u001b[0mself\u001b[0m\u001b[0;34m.\u001b[0m\u001b[0m_get_attribute_role\u001b[0m\u001b[0;34m(\u001b[0m\u001b[0mkey\u001b[0m\u001b[0;34m)\u001b[0m \u001b[0;34m==\u001b[0m \u001b[0;34m'object'\u001b[0m\u001b[0;34m:\u001b[0m\u001b[0;34m\u001b[0m\u001b[0m\n\u001b[0;32m--> 432\u001b[0;31m             \u001b[0mvalue\u001b[0m \u001b[0;34m=\u001b[0m \u001b[0mself\u001b[0m\u001b[0;34m.\u001b[0m\u001b[0m_value_to_graph_object\u001b[0m\u001b[0;34m(\u001b[0m\u001b[0mkey\u001b[0m\u001b[0;34m,\u001b[0m \u001b[0mvalue\u001b[0m\u001b[0;34m,\u001b[0m \u001b[0m_raise\u001b[0m\u001b[0;34m=\u001b[0m\u001b[0m_raise\u001b[0m\u001b[0;34m)\u001b[0m\u001b[0;34m\u001b[0m\u001b[0m\n\u001b[0m\u001b[1;32m    433\u001b[0m             \u001b[0;32mif\u001b[0m \u001b[0;32mnot\u001b[0m \u001b[0misinstance\u001b[0m\u001b[0;34m(\u001b[0m\u001b[0mvalue\u001b[0m\u001b[0;34m,\u001b[0m \u001b[0;34m(\u001b[0m\u001b[0mPlotlyDict\u001b[0m\u001b[0;34m,\u001b[0m \u001b[0mPlotlyList\u001b[0m\u001b[0;34m)\u001b[0m\u001b[0;34m)\u001b[0m\u001b[0;34m:\u001b[0m\u001b[0;34m\u001b[0m\u001b[0m\n\u001b[1;32m    434\u001b[0m                 \u001b[0;32mreturn\u001b[0m\u001b[0;34m\u001b[0m\u001b[0m\n",
      "\u001b[0;32m/anaconda/lib/python3.6/site-packages/plotly/graph_objs/graph_objs.py\u001b[0m in \u001b[0;36m_value_to_graph_object\u001b[0;34m(self, key, value, _raise)\u001b[0m\n\u001b[1;32m    535\u001b[0m             \u001b[0;32mif\u001b[0m \u001b[0m_raise\u001b[0m\u001b[0;34m:\u001b[0m\u001b[0;34m\u001b[0m\u001b[0m\n\u001b[1;32m    536\u001b[0m                 \u001b[0mpath\u001b[0m \u001b[0;34m=\u001b[0m \u001b[0mself\u001b[0m\u001b[0;34m.\u001b[0m\u001b[0m_get_path\u001b[0m\u001b[0;34m(\u001b[0m\u001b[0;34m)\u001b[0m \u001b[0;34m+\u001b[0m \u001b[0;34m(\u001b[0m\u001b[0mkey\u001b[0m\u001b[0;34m,\u001b[0m \u001b[0;34m)\u001b[0m\u001b[0;34m\u001b[0m\u001b[0m\n\u001b[0;32m--> 537\u001b[0;31m                 \u001b[0;32mraise\u001b[0m \u001b[0mexceptions\u001b[0m\u001b[0;34m.\u001b[0m\u001b[0mPlotlyDictValueError\u001b[0m\u001b[0;34m(\u001b[0m\u001b[0mself\u001b[0m\u001b[0;34m,\u001b[0m \u001b[0mpath\u001b[0m\u001b[0;34m)\u001b[0m\u001b[0;34m\u001b[0m\u001b[0m\n\u001b[0m\u001b[1;32m    538\u001b[0m             \u001b[0;32melse\u001b[0m\u001b[0;34m:\u001b[0m\u001b[0;34m\u001b[0m\u001b[0m\n\u001b[1;32m    539\u001b[0m                 \u001b[0;32mreturn\u001b[0m\u001b[0;34m\u001b[0m\u001b[0m\n",
      "\u001b[0;31mPlotlyDictValueError\u001b[0m: 'data' has invalid value inside 'figure'\n\nPath To Error: ['data']\n\nCurrent path: []\nCurrent parent object_names: []\n\nAdditionally:\n\n    role: object\n\n"
     ]
    }
   ],
   "source": [
    "pfig = go.Figure(data = meteo, layout = layout)\n",
    "plotly.offline.iplot(pfig, validate=False)"
   ]
  },
  {
   "cell_type": "code",
   "execution_count": 14,
   "metadata": {
    "collapsed": false
   },
   "outputs": [
    {
     "data": {
      "application/vnd.plotly.v1+json": {
       "data": [
        {
         "lat": [
          50.775,
          56.18333000000001,
          54.21666999999999,
          16.883329999999994,
          -33.16667,
          32.1,
          44.83333,
          44.21667,
          -31.6,
          -30.866670000000006,
          16.39806,
          19.08333,
          29.51667,
          29.71667,
          8.91667,
          39.91667,
          24.41667,
          13.660329999999998,
          44.11667,
          44.65,
          2,
          45.82133,
          51.78333,
          36.23333,
          44.88333,
          50.95,
          45.26667,
          42.53333,
          26.96667,
          20.74575,
          35.27333,
          27.66667,
          26.58333,
          44.61667,
          48.7,
          20.88333,
          -22.96667,
          9.53333,
          25.15,
          40.81056,
          53.58333,
          43.86667,
          -33,
          38.5,
          -31.41667,
          42.45,
          31.805,
          52.05,
          43.03333,
          25.25417,
          20.06667,
          34.75,
          34.31667,
          44.38333,
          36.16667,
          44.33333,
          43.08333,
          -21.46028,
          46,
          25,
          2.71667,
          36.8,
          48.6,
          28.48333,
          35.96667,
          34.5,
          5.38333,
          16.66667,
          -6.91667,
          27.7,
          30.4,
          -6.33333,
          43.95,
          42.38333,
          52.73333,
          52,
          31.616670000000006,
          52.56528,
          15.78333,
          52.03333,
          45.41667,
          38.25,
          40.66813,
          11.08333,
          36.75,
          39.8,
          51.16667,
          53.01667,
          33.6,
          25.366670000000006,
          32.25,
          32.86667,
          39.08333,
          -26.16667,
          30,
          45.95,
          -31.91,
          11.65,
          41.68333,
          40.30583
         ],
         "locationmode": "USA-states",
         "lon": [
          6.08333,
          10.23333,
          -113,
          -99.9,
          -64.95,
          71.8,
          95.16667,
          0.6166699999999999,
          -65.23333000000001,
          -64.55,
          -9.57028,
          8.38333,
          35.05,
          77.95,
          8.43333,
          42.81667,
          39.51667,
          28.96,
          4.08333,
          11.01667,
          22.66667,
          6.0153300000000005,
          -1.78333,
          37.13333,
          8.75,
          31.81667,
          10.15,
          -85.88333,
          -105.31667,
          32.41275,
          44.21556,
          78.25,
          85.56667,
          -70.75,
          37.5,
          76.86667,
          -44.31667,
          39.71667,
          105.18333,
          140.78556,
          -2.71667,
          5.38333,
          -66,
          -94.3,
          -60.66667,
          9.03333,
          -97.01,
          0.3,
          12.55,
          80.625,
          -103.66667,
          -87,
          -96.15,
          5.16667,
          3.66667,
          3.23333,
          0.58333,
          -49.95083,
          13.5,
          -103.5,
          32.83333,
          -108,
          38,
          78.5,
          -82.48333000000002,
          -88.66667,
          16.383329999999994,
          101.18333,
          107.6,
          76.33333,
          78.2,
          106,
          -0.05,
          -2.5,
          84.08333,
          9.1,
          76.8,
          -1.33972,
          -5.9,
          20.93583,
          -98.31667,
          -83.75,
          -117.18913,
          -0.18333,
          -93.5,
          -101.2,
          -117.33333,
          -4.1,
          -96.46667,
          82.91667,
          -8.15,
          10.8,
          -89.15,
          28.41667,
          -7,
          -67.55,
          -58.32833,
          -3.65,
          -3.8,
          -105.02325
         ],
         "marker": {
          "opacity": 0.7,
          "size": 8,
          "symbol": "square"
         },
         "mode": "markers",
         "text": [
          "Aachen",
          "Aarhus",
          "Abee",
          "Acapulco",
          "Achiras",
          "Adhi Kot",
          "Adzhi-Bogdo (stone)",
          "Agen",
          "Aguada",
          "Aguila Blanca",
          "Aioun el Atrouss",
          "Aïr",
          "Akaba",
          "Akbarpur",
          "Akwanga",
          "Akyumak",
          "Al Rais",
          "Al Zarnkh",
          "Alais",
          "Albareto",
          "Alberta",
          "Alby sur Chéran",
          "Aldsworth",
          "Aleppo",
          "Alessandria",
          "Alexandrovsky",
          "Alfianello",
          "Allegan",
          "Allende",
          "Almahata Sitta",
          "Alta'ameem",
          "Ambapur Nagla",
          "Andhara",
          "Andover",
          "Andreevka",
          "Andura",
          "Angra dos Reis (stone)",
          "Ankober",
          "Anlong",
          "Aomori",
          "Appley Bridge",
          "Apt",
          "Arbol Solo",
          "Archie",
          "Arroyo Aguiar",
          "Asco",
          "Ash Creek",
          "Ashdon",
          "Assisi",
          "Atarra",
          "Atemajac",
          "Athens",
          "Atoka",
          "Aubres",
          "Aumale",
          "Aumieres",
          "Ausson",
          "Avanhandava",
          "Avce",
          "Avilez",
          "Awere",
          "Aztec",
          "Bachmut",
          "Bahjoi",
          "Bald Mountain",
          "Baldwyn",
          "Bali",
          "Ban Rong Du",
          "Bandong",
          "Bansur",
          "Banswal",
          "Banten",
          "Barbotan",
          "Barea",
          "Barnaul",
          "Barntrup",
          "Baroti",
          "Barwell",
          "Bassikounou",
          "Baszkówka",
          "Bath",
          "Bath Furnace",
          "Battle Mountain",
          "Bawku",
          "Baxter",
          "Beardsley",
          "Beaver Creek",
          "Beddgelert",
          "Bells",
          "Benares (a)",
          "Benguerir",
          "Beni M'hira",
          "Benld",
          "Benoni",
          "Bensour",
          "Benton",
          "Berduc",
          "Béréba",
          "Berlanguillas",
          "Berthoud"
         ],
         "type": "scattergo"
        }
       ],
       "layout": {
        "geo": {
         "projection": {
          "type": "albers usa"
         },
         "scope": "usa",
         "showland": true
        },
        "title": "meteorite landings"
       }
      },
      "text/html": [
       "<div id=\"88e62d38-c95a-4c65-9555-9ea5f7905c28\" style=\"height: 525px; width: 100%;\" class=\"plotly-graph-div\"></div><script type=\"text/javascript\">require([\"plotly\"], function(Plotly) { window.PLOTLYENV=window.PLOTLYENV || {};window.PLOTLYENV.BASE_URL=\"https://plot.ly\";Plotly.newPlot(\"88e62d38-c95a-4c65-9555-9ea5f7905c28\", [{\"type\": \"scattergo\", \"locationmode\": \"USA-states\", \"lon\": [6.08333, 10.23333, -113.0, -99.9, -64.95, 71.8, 95.16667, 0.6166699999999999, -65.23333000000001, -64.55, -9.57028, 8.38333, 35.05, 77.95, 8.43333, 42.81667, 39.51667, 28.96, 4.08333, 11.01667, 22.66667, 6.0153300000000005, -1.78333, 37.13333, 8.75, 31.81667, 10.15, -85.88333, -105.31667, 32.41275, 44.21556, 78.25, 85.56667, -70.75, 37.5, 76.86667, -44.31667, 39.71667, 105.18333, 140.78556, -2.71667, 5.38333, -66.0, -94.3, -60.66667, 9.03333, -97.01, 0.3, 12.55, 80.625, -103.66667, -87.0, -96.15, 5.16667, 3.66667, 3.23333, 0.58333, -49.95083, 13.5, -103.5, 32.83333, -108.0, 38.0, 78.5, -82.48333000000002, -88.66667, 16.383329999999994, 101.18333, 107.6, 76.33333, 78.2, 106.0, -0.05, -2.5, 84.08333, 9.1, 76.8, -1.33972, -5.9, 20.93583, -98.31667, -83.75, -117.18913, -0.18333, -93.5, -101.2, -117.33333, -4.1, -96.46667, 82.91667, -8.15, 10.8, -89.15, 28.41667, -7.0, -67.55, -58.32833, -3.65, -3.8, -105.02325], \"lat\": [50.775, 56.18333000000001, 54.21666999999999, 16.883329999999994, -33.16667, 32.1, 44.83333, 44.21667, -31.6, -30.866670000000006, 16.39806, 19.08333, 29.51667, 29.71667, 8.91667, 39.91667, 24.41667, 13.660329999999998, 44.11667, 44.65, 2.0, 45.82133, 51.78333, 36.23333, 44.88333, 50.95, 45.26667, 42.53333, 26.96667, 20.74575, 35.27333, 27.66667, 26.58333, 44.61667, 48.7, 20.88333, -22.96667, 9.53333, 25.15, 40.81056, 53.58333, 43.86667, -33.0, 38.5, -31.41667, 42.45, 31.805, 52.05, 43.03333, 25.25417, 20.06667, 34.75, 34.31667, 44.38333, 36.16667, 44.33333, 43.08333, -21.46028, 46.0, 25.0, 2.71667, 36.8, 48.6, 28.48333, 35.96667, 34.5, 5.38333, 16.66667, -6.91667, 27.7, 30.4, -6.33333, 43.95, 42.38333, 52.73333, 52.0, 31.616670000000006, 52.56528, 15.78333, 52.03333, 45.41667, 38.25, 40.66813, 11.08333, 36.75, 39.8, 51.16667, 53.01667, 33.6, 25.366670000000006, 32.25, 32.86667, 39.08333, -26.16667, 30.0, 45.95, -31.91, 11.65, 41.68333, 40.30583], \"text\": [\"Aachen\", \"Aarhus\", \"Abee\", \"Acapulco\", \"Achiras\", \"Adhi Kot\", \"Adzhi-Bogdo (stone)\", \"Agen\", \"Aguada\", \"Aguila Blanca\", \"Aioun el Atrouss\", \"A\\u00efr\", \"Akaba\", \"Akbarpur\", \"Akwanga\", \"Akyumak\", \"Al Rais\", \"Al Zarnkh\", \"Alais\", \"Albareto\", \"Alberta\", \"Alby sur Ch\\u00e9ran\", \"Aldsworth\", \"Aleppo\", \"Alessandria\", \"Alexandrovsky\", \"Alfianello\", \"Allegan\", \"Allende\", \"Almahata Sitta\", \"Alta'ameem\", \"Ambapur Nagla\", \"Andhara\", \"Andover\", \"Andreevka\", \"Andura\", \"Angra dos Reis (stone)\", \"Ankober\", \"Anlong\", \"Aomori\", \"Appley Bridge\", \"Apt\", \"Arbol Solo\", \"Archie\", \"Arroyo Aguiar\", \"Asco\", \"Ash Creek\", \"Ashdon\", \"Assisi\", \"Atarra\", \"Atemajac\", \"Athens\", \"Atoka\", \"Aubres\", \"Aumale\", \"Aumieres\", \"Ausson\", \"Avanhandava\", \"Avce\", \"Avilez\", \"Awere\", \"Aztec\", \"Bachmut\", \"Bahjoi\", \"Bald Mountain\", \"Baldwyn\", \"Bali\", \"Ban Rong Du\", \"Bandong\", \"Bansur\", \"Banswal\", \"Banten\", \"Barbotan\", \"Barea\", \"Barnaul\", \"Barntrup\", \"Baroti\", \"Barwell\", \"Bassikounou\", \"Baszk\\u00f3wka\", \"Bath\", \"Bath Furnace\", \"Battle Mountain\", \"Bawku\", \"Baxter\", \"Beardsley\", \"Beaver Creek\", \"Beddgelert\", \"Bells\", \"Benares (a)\", \"Benguerir\", \"Beni M'hira\", \"Benld\", \"Benoni\", \"Bensour\", \"Benton\", \"Berduc\", \"B\\u00e9r\\u00e9ba\", \"Berlanguillas\", \"Berthoud\"], \"mode\": \"markers\", \"marker\": {\"size\": 8, \"opacity\": 0.7, \"symbol\": \"square\"}}], {\"title\": \"meteorite landings\", \"geo\": {\"scope\": \"usa\", \"projection\": {\"type\": \"albers usa\"}, \"showland\": true}}, {\"showLink\": true, \"linkText\": \"Export to plot.ly\"})});</script>"
      ],
      "text/vnd.plotly.v1+html": [
       "<div id=\"88e62d38-c95a-4c65-9555-9ea5f7905c28\" style=\"height: 525px; width: 100%;\" class=\"plotly-graph-div\"></div><script type=\"text/javascript\">require([\"plotly\"], function(Plotly) { window.PLOTLYENV=window.PLOTLYENV || {};window.PLOTLYENV.BASE_URL=\"https://plot.ly\";Plotly.newPlot(\"88e62d38-c95a-4c65-9555-9ea5f7905c28\", [{\"type\": \"scattergo\", \"locationmode\": \"USA-states\", \"lon\": [6.08333, 10.23333, -113.0, -99.9, -64.95, 71.8, 95.16667, 0.6166699999999999, -65.23333000000001, -64.55, -9.57028, 8.38333, 35.05, 77.95, 8.43333, 42.81667, 39.51667, 28.96, 4.08333, 11.01667, 22.66667, 6.0153300000000005, -1.78333, 37.13333, 8.75, 31.81667, 10.15, -85.88333, -105.31667, 32.41275, 44.21556, 78.25, 85.56667, -70.75, 37.5, 76.86667, -44.31667, 39.71667, 105.18333, 140.78556, -2.71667, 5.38333, -66.0, -94.3, -60.66667, 9.03333, -97.01, 0.3, 12.55, 80.625, -103.66667, -87.0, -96.15, 5.16667, 3.66667, 3.23333, 0.58333, -49.95083, 13.5, -103.5, 32.83333, -108.0, 38.0, 78.5, -82.48333000000002, -88.66667, 16.383329999999994, 101.18333, 107.6, 76.33333, 78.2, 106.0, -0.05, -2.5, 84.08333, 9.1, 76.8, -1.33972, -5.9, 20.93583, -98.31667, -83.75, -117.18913, -0.18333, -93.5, -101.2, -117.33333, -4.1, -96.46667, 82.91667, -8.15, 10.8, -89.15, 28.41667, -7.0, -67.55, -58.32833, -3.65, -3.8, -105.02325], \"lat\": [50.775, 56.18333000000001, 54.21666999999999, 16.883329999999994, -33.16667, 32.1, 44.83333, 44.21667, -31.6, -30.866670000000006, 16.39806, 19.08333, 29.51667, 29.71667, 8.91667, 39.91667, 24.41667, 13.660329999999998, 44.11667, 44.65, 2.0, 45.82133, 51.78333, 36.23333, 44.88333, 50.95, 45.26667, 42.53333, 26.96667, 20.74575, 35.27333, 27.66667, 26.58333, 44.61667, 48.7, 20.88333, -22.96667, 9.53333, 25.15, 40.81056, 53.58333, 43.86667, -33.0, 38.5, -31.41667, 42.45, 31.805, 52.05, 43.03333, 25.25417, 20.06667, 34.75, 34.31667, 44.38333, 36.16667, 44.33333, 43.08333, -21.46028, 46.0, 25.0, 2.71667, 36.8, 48.6, 28.48333, 35.96667, 34.5, 5.38333, 16.66667, -6.91667, 27.7, 30.4, -6.33333, 43.95, 42.38333, 52.73333, 52.0, 31.616670000000006, 52.56528, 15.78333, 52.03333, 45.41667, 38.25, 40.66813, 11.08333, 36.75, 39.8, 51.16667, 53.01667, 33.6, 25.366670000000006, 32.25, 32.86667, 39.08333, -26.16667, 30.0, 45.95, -31.91, 11.65, 41.68333, 40.30583], \"text\": [\"Aachen\", \"Aarhus\", \"Abee\", \"Acapulco\", \"Achiras\", \"Adhi Kot\", \"Adzhi-Bogdo (stone)\", \"Agen\", \"Aguada\", \"Aguila Blanca\", \"Aioun el Atrouss\", \"A\\u00efr\", \"Akaba\", \"Akbarpur\", \"Akwanga\", \"Akyumak\", \"Al Rais\", \"Al Zarnkh\", \"Alais\", \"Albareto\", \"Alberta\", \"Alby sur Ch\\u00e9ran\", \"Aldsworth\", \"Aleppo\", \"Alessandria\", \"Alexandrovsky\", \"Alfianello\", \"Allegan\", \"Allende\", \"Almahata Sitta\", \"Alta'ameem\", \"Ambapur Nagla\", \"Andhara\", \"Andover\", \"Andreevka\", \"Andura\", \"Angra dos Reis (stone)\", \"Ankober\", \"Anlong\", \"Aomori\", \"Appley Bridge\", \"Apt\", \"Arbol Solo\", \"Archie\", \"Arroyo Aguiar\", \"Asco\", \"Ash Creek\", \"Ashdon\", \"Assisi\", \"Atarra\", \"Atemajac\", \"Athens\", \"Atoka\", \"Aubres\", \"Aumale\", \"Aumieres\", \"Ausson\", \"Avanhandava\", \"Avce\", \"Avilez\", \"Awere\", \"Aztec\", \"Bachmut\", \"Bahjoi\", \"Bald Mountain\", \"Baldwyn\", \"Bali\", \"Ban Rong Du\", \"Bandong\", \"Bansur\", \"Banswal\", \"Banten\", \"Barbotan\", \"Barea\", \"Barnaul\", \"Barntrup\", \"Baroti\", \"Barwell\", \"Bassikounou\", \"Baszk\\u00f3wka\", \"Bath\", \"Bath Furnace\", \"Battle Mountain\", \"Bawku\", \"Baxter\", \"Beardsley\", \"Beaver Creek\", \"Beddgelert\", \"Bells\", \"Benares (a)\", \"Benguerir\", \"Beni M'hira\", \"Benld\", \"Benoni\", \"Bensour\", \"Benton\", \"Berduc\", \"B\\u00e9r\\u00e9ba\", \"Berlanguillas\", \"Berthoud\"], \"mode\": \"markers\", \"marker\": {\"size\": 8, \"opacity\": 0.7, \"symbol\": \"square\"}}], {\"title\": \"meteorite landings\", \"geo\": {\"scope\": \"usa\", \"projection\": {\"type\": \"albers usa\"}, \"showland\": true}}, {\"showLink\": true, \"linkText\": \"Export to plot.ly\"})});</script>"
      ]
     },
     "metadata": {},
     "output_type": "display_data"
    }
   ],
   "source": [
    "trace = [dict(\n",
    "    type = 'scattergo',\n",
    "    locationmode = 'USA-states',\n",
    "    lon = df2['reclong'],\n",
    "    lat = df2['reclat'],\n",
    "    text = df2['name'],\n",
    "    mode = 'markers',\n",
    "    marker = dict(\n",
    "        size = 8,\n",
    "        opacity = 0.7,\n",
    "        symbol = 'square'\n",
    "    )\n",
    ")]\n",
    "\n",
    "layout = dict(\n",
    "    title = \"meteorite landings\",\n",
    "    geo = dict(\n",
    "        scope = 'usa',\n",
    "        projection=dict( type='albers usa' ),\n",
    "        showland = True\n",
    "    ),\n",
    ")\n",
    "\n",
    "pfig2 = dict(data = trace, layout = layout)\n",
    "plotly.offline.iplot(pfig2, validate=False)"
   ]
  },
  {
   "cell_type": "code",
   "execution_count": 17,
   "metadata": {
    "collapsed": false
   },
   "outputs": [
    {
     "data": {
      "application/vnd.plotly.v1+json": {
       "data": [
        {
         "lat": [
          0,
          0
         ],
         "lon": [
          100,
          400
         ],
         "marker": {
          "color": [
           "red",
           "blue"
          ],
          "size": [
           30,
           50
          ]
         },
         "mode": "markers",
         "type": "scattergeo"
        }
       ],
       "layout": {}
      },
      "text/html": [
       "<div id=\"3e9f06fb-83d0-4699-bf55-f22833066784\" style=\"height: 525px; width: 100%;\" class=\"plotly-graph-div\"></div><script type=\"text/javascript\">require([\"plotly\"], function(Plotly) { window.PLOTLYENV=window.PLOTLYENV || {};window.PLOTLYENV.BASE_URL=\"https://plot.ly\";Plotly.newPlot(\"3e9f06fb-83d0-4699-bf55-f22833066784\", [{\"type\": \"scattergeo\", \"lon\": [100, 400], \"lat\": [0, 0], \"marker\": {\"color\": [\"red\", \"blue\"], \"size\": [30, 50]}, \"mode\": \"markers\"}], {}, {\"showLink\": true, \"linkText\": \"Export to plot.ly\"})});</script>"
      ],
      "text/vnd.plotly.v1+html": [
       "<div id=\"3e9f06fb-83d0-4699-bf55-f22833066784\" style=\"height: 525px; width: 100%;\" class=\"plotly-graph-div\"></div><script type=\"text/javascript\">require([\"plotly\"], function(Plotly) { window.PLOTLYENV=window.PLOTLYENV || {};window.PLOTLYENV.BASE_URL=\"https://plot.ly\";Plotly.newPlot(\"3e9f06fb-83d0-4699-bf55-f22833066784\", [{\"type\": \"scattergeo\", \"lon\": [100, 400], \"lat\": [0, 0], \"marker\": {\"color\": [\"red\", \"blue\"], \"size\": [30, 50]}, \"mode\": \"markers\"}], {}, {\"showLink\": true, \"linkText\": \"Export to plot.ly\"})});</script>"
      ]
     },
     "metadata": {},
     "output_type": "display_data"
    }
   ],
   "source": [
    "trace2 = dict(\n",
    "    type = 'scattergeo',\n",
    "    lon = [100, 400],\n",
    "    lat = [0, 0],\n",
    "    marker = dict(\n",
    "        color = ['red', 'blue'],\n",
    "        size = [30, 50]\n",
    "    ),\n",
    "    mode = 'markers'\n",
    "    \n",
    ")\n",
    "\n",
    "plotly.offline.iplot([trace2])"
   ]
  },
  {
   "cell_type": "code",
   "execution_count": 27,
   "metadata": {
    "collapsed": false
   },
   "outputs": [
    {
     "data": {
      "application/vnd.plotly.v1+json": {
       "data": [
        {
         "lat": [
          50.775,
          56.18333000000001,
          54.21666999999999,
          16.883329999999994,
          -33.16667,
          32.1,
          44.83333,
          44.21667,
          -31.6,
          -30.866670000000006,
          16.39806,
          19.08333,
          29.51667,
          29.71667,
          8.91667,
          39.91667,
          24.41667,
          13.660329999999998,
          44.11667,
          44.65,
          2,
          45.82133,
          51.78333,
          36.23333,
          44.88333,
          50.95,
          45.26667,
          42.53333,
          26.96667,
          20.74575,
          35.27333,
          27.66667,
          26.58333,
          44.61667,
          48.7,
          20.88333,
          -22.96667,
          9.53333,
          25.15,
          40.81056,
          53.58333,
          43.86667,
          -33,
          38.5,
          -31.41667,
          42.45,
          31.805,
          52.05,
          43.03333,
          25.25417,
          20.06667,
          34.75,
          34.31667,
          44.38333,
          36.16667,
          44.33333,
          43.08333,
          -21.46028,
          46,
          25,
          2.71667,
          36.8,
          48.6,
          28.48333,
          35.96667,
          34.5,
          5.38333,
          16.66667,
          -6.91667,
          27.7,
          30.4,
          -6.33333,
          43.95,
          42.38333,
          52.73333,
          52,
          31.616670000000006,
          52.56528,
          15.78333,
          52.03333,
          45.41667,
          38.25,
          40.66813,
          11.08333,
          36.75,
          39.8,
          51.16667,
          53.01667,
          33.6,
          25.366670000000006,
          32.25,
          32.86667,
          39.08333,
          -26.16667,
          30,
          45.95,
          -31.91,
          11.65,
          41.68333,
          40.30583
         ],
         "lon": [
          6.08333,
          10.23333,
          -113,
          -99.9,
          -64.95,
          71.8,
          95.16667,
          0.6166699999999999,
          -65.23333000000001,
          -64.55,
          -9.57028,
          8.38333,
          35.05,
          77.95,
          8.43333,
          42.81667,
          39.51667,
          28.96,
          4.08333,
          11.01667,
          22.66667,
          6.0153300000000005,
          -1.78333,
          37.13333,
          8.75,
          31.81667,
          10.15,
          -85.88333,
          -105.31667,
          32.41275,
          44.21556,
          78.25,
          85.56667,
          -70.75,
          37.5,
          76.86667,
          -44.31667,
          39.71667,
          105.18333,
          140.78556,
          -2.71667,
          5.38333,
          -66,
          -94.3,
          -60.66667,
          9.03333,
          -97.01,
          0.3,
          12.55,
          80.625,
          -103.66667,
          -87,
          -96.15,
          5.16667,
          3.66667,
          3.23333,
          0.58333,
          -49.95083,
          13.5,
          -103.5,
          32.83333,
          -108,
          38,
          78.5,
          -82.48333000000002,
          -88.66667,
          16.383329999999994,
          101.18333,
          107.6,
          76.33333,
          78.2,
          106,
          -0.05,
          -2.5,
          84.08333,
          9.1,
          76.8,
          -1.33972,
          -5.9,
          20.93583,
          -98.31667,
          -83.75,
          -117.18913,
          -0.18333,
          -93.5,
          -101.2,
          -117.33333,
          -4.1,
          -96.46667,
          82.91667,
          -8.15,
          10.8,
          -89.15,
          28.41667,
          -7,
          -67.55,
          -58.32833,
          -3.65,
          -3.8,
          -105.02325
         ],
         "marker": {
          "size": [
           1.3222192947339193,
           2.8573324964312685,
           5.02938377768521,
           3.281941933440825,
           2.8920946026904804,
           3.627263416568221,
           2.9590413923210934,
           4.477121254719663,
           3.2095150145426308,
           3.1583624920952498,
           3,
           4.380211241711606,
           2.8915374576725643,
           3.255272505103306,
           3.4771212547196626,
           4.698970004336019,
           2.2041199826559246,
           2.845098040014257,
           3.7781512503836434,
           3.3010299956639813,
           2.7958800173440754,
           2.401400540781544,
           2.845098040014257,
           3.505149978319906,
           2.958085848521085,
           3.966188680956137,
           5.357934847000454,
           4.505149978319906,
           6.301029995663981,
           3.59659709562646,
           3.7781512503836434,
           3.806179973983887,
           3.4313637641589874,
           3.505149978319906,
           2.7781512503836434,
           4.252853030979893,
           3.1760912590556813,
           3.8129133566428557,
           3.3979400086720375,
           2.505149978319906,
           4.176091259055681,
           3.505149978319906,
           2.90848501887865,
           3.705007959333336,
           3.8721562727482928,
           1.6127838567197355,
           3.9777236052888476,
           3.113943352306837,
           3.3010299956639813,
           3.1072099696478683,
           1.9740509027928774,
           2.423245873936808,
           3.141198844904737,
           2.9030899869919438,
           4.698970004336019,
           3.3010299956639813,
           4.698970004336019,
           3.9698816437465,
           3.089905111439398,
           2.164352855784437,
           2.1271047983648077,
           3.45178643552429,
           4.2552725051033065,
           4.013763854733933,
           3.568201724066995,
           2.537819095073274,
           3,
           4.222716471147583,
           4.060697840353612,
           4.176091259055681,
           1.146128035678238,
           2.798650645445269,
           3.806179973983887,
           3.505149978319906,
           1.3654879848908996,
           1.2304489213782739,
           3.6532125137753435,
           4.643452676486188,
           4.4707044297227885,
           4.190331698170292,
           4.3222192947339195,
           4.9344984512435675,
           3.462397997898956,
           3.1922886125681202,
           2.786041210242554,
           4.204119982655925,
           4.146128035678238,
           2.8998205024270964,
           2.574031267727719,
           3.568201724066995,
           4.3979400086720375,
           4.278753600952829,
           3.24809593109413,
           3.5888317255942073,
           4.653212513775344,
           3.4533183400470375,
           2.4313637641589874,
           4.2552725051033065,
           3.1583624920952498,
           2.9822712330395684
          ]
         },
         "mode": "markers",
         "type": "scattergeo"
        }
       ],
       "layout": {}
      },
      "text/html": [
       "<div id=\"c873e3d9-44b6-4e2c-9f5b-aace1e570457\" style=\"height: 525px; width: 100%;\" class=\"plotly-graph-div\"></div><script type=\"text/javascript\">require([\"plotly\"], function(Plotly) { window.PLOTLYENV=window.PLOTLYENV || {};window.PLOTLYENV.BASE_URL=\"https://plot.ly\";Plotly.newPlot(\"c873e3d9-44b6-4e2c-9f5b-aace1e570457\", [{\"type\": \"scattergeo\", \"lon\": [6.08333, 10.23333, -113.0, -99.9, -64.95, 71.8, 95.16667, 0.6166699999999999, -65.23333000000001, -64.55, -9.57028, 8.38333, 35.05, 77.95, 8.43333, 42.81667, 39.51667, 28.96, 4.08333, 11.01667, 22.66667, 6.0153300000000005, -1.78333, 37.13333, 8.75, 31.81667, 10.15, -85.88333, -105.31667, 32.41275, 44.21556, 78.25, 85.56667, -70.75, 37.5, 76.86667, -44.31667, 39.71667, 105.18333, 140.78556, -2.71667, 5.38333, -66.0, -94.3, -60.66667, 9.03333, -97.01, 0.3, 12.55, 80.625, -103.66667, -87.0, -96.15, 5.16667, 3.66667, 3.23333, 0.58333, -49.95083, 13.5, -103.5, 32.83333, -108.0, 38.0, 78.5, -82.48333000000002, -88.66667, 16.383329999999994, 101.18333, 107.6, 76.33333, 78.2, 106.0, -0.05, -2.5, 84.08333, 9.1, 76.8, -1.33972, -5.9, 20.93583, -98.31667, -83.75, -117.18913, -0.18333, -93.5, -101.2, -117.33333, -4.1, -96.46667, 82.91667, -8.15, 10.8, -89.15, 28.41667, -7.0, -67.55, -58.32833, -3.65, -3.8, -105.02325], \"lat\": [50.775, 56.18333000000001, 54.21666999999999, 16.883329999999994, -33.16667, 32.1, 44.83333, 44.21667, -31.6, -30.866670000000006, 16.39806, 19.08333, 29.51667, 29.71667, 8.91667, 39.91667, 24.41667, 13.660329999999998, 44.11667, 44.65, 2.0, 45.82133, 51.78333, 36.23333, 44.88333, 50.95, 45.26667, 42.53333, 26.96667, 20.74575, 35.27333, 27.66667, 26.58333, 44.61667, 48.7, 20.88333, -22.96667, 9.53333, 25.15, 40.81056, 53.58333, 43.86667, -33.0, 38.5, -31.41667, 42.45, 31.805, 52.05, 43.03333, 25.25417, 20.06667, 34.75, 34.31667, 44.38333, 36.16667, 44.33333, 43.08333, -21.46028, 46.0, 25.0, 2.71667, 36.8, 48.6, 28.48333, 35.96667, 34.5, 5.38333, 16.66667, -6.91667, 27.7, 30.4, -6.33333, 43.95, 42.38333, 52.73333, 52.0, 31.616670000000006, 52.56528, 15.78333, 52.03333, 45.41667, 38.25, 40.66813, 11.08333, 36.75, 39.8, 51.16667, 53.01667, 33.6, 25.366670000000006, 32.25, 32.86667, 39.08333, -26.16667, 30.0, 45.95, -31.91, 11.65, 41.68333, 40.30583], \"marker\": {\"size\": [1.3222192947339193, 2.8573324964312685, 5.02938377768521, 3.281941933440825, 2.8920946026904804, 3.627263416568221, 2.9590413923210934, 4.477121254719663, 3.2095150145426308, 3.1583624920952498, 3.0, 4.380211241711606, 2.8915374576725643, 3.255272505103306, 3.4771212547196626, 4.698970004336019, 2.2041199826559246, 2.845098040014257, 3.7781512503836434, 3.3010299956639813, 2.7958800173440754, 2.401400540781544, 2.845098040014257, 3.505149978319906, 2.958085848521085, 3.966188680956137, 5.357934847000454, 4.505149978319906, 6.301029995663981, 3.59659709562646, 3.7781512503836434, 3.806179973983887, 3.4313637641589874, 3.505149978319906, 2.7781512503836434, 4.252853030979893, 3.1760912590556813, 3.8129133566428557, 3.3979400086720375, 2.505149978319906, 4.176091259055681, 3.505149978319906, 2.90848501887865, 3.705007959333336, 3.8721562727482928, 1.6127838567197355, 3.9777236052888476, 3.113943352306837, 3.3010299956639813, 3.1072099696478683, 1.9740509027928774, 2.423245873936808, 3.141198844904737, 2.9030899869919438, 4.698970004336019, 3.3010299956639813, 4.698970004336019, 3.9698816437465, 3.089905111439398, 2.164352855784437, 2.1271047983648077, 3.45178643552429, 4.2552725051033065, 4.013763854733933, 3.568201724066995, 2.537819095073274, 3.0, 4.222716471147583, 4.060697840353612, 4.176091259055681, 1.146128035678238, 2.798650645445269, 3.806179973983887, 3.505149978319906, 1.3654879848908996, 1.2304489213782739, 3.6532125137753435, 4.643452676486188, 4.4707044297227885, 4.190331698170292, 4.3222192947339195, 4.9344984512435675, 3.462397997898956, 3.1922886125681202, 2.786041210242554, 4.204119982655925, 4.146128035678238, 2.8998205024270964, 2.574031267727719, 3.568201724066995, 4.3979400086720375, 4.278753600952829, 3.24809593109413, 3.5888317255942073, 4.653212513775344, 3.4533183400470375, 2.4313637641589874, 4.2552725051033065, 3.1583624920952498, 2.9822712330395684]}, \"mode\": \"markers\"}], {}, {\"showLink\": true, \"linkText\": \"Export to plot.ly\"})});</script>"
      ],
      "text/vnd.plotly.v1+html": [
       "<div id=\"c873e3d9-44b6-4e2c-9f5b-aace1e570457\" style=\"height: 525px; width: 100%;\" class=\"plotly-graph-div\"></div><script type=\"text/javascript\">require([\"plotly\"], function(Plotly) { window.PLOTLYENV=window.PLOTLYENV || {};window.PLOTLYENV.BASE_URL=\"https://plot.ly\";Plotly.newPlot(\"c873e3d9-44b6-4e2c-9f5b-aace1e570457\", [{\"type\": \"scattergeo\", \"lon\": [6.08333, 10.23333, -113.0, -99.9, -64.95, 71.8, 95.16667, 0.6166699999999999, -65.23333000000001, -64.55, -9.57028, 8.38333, 35.05, 77.95, 8.43333, 42.81667, 39.51667, 28.96, 4.08333, 11.01667, 22.66667, 6.0153300000000005, -1.78333, 37.13333, 8.75, 31.81667, 10.15, -85.88333, -105.31667, 32.41275, 44.21556, 78.25, 85.56667, -70.75, 37.5, 76.86667, -44.31667, 39.71667, 105.18333, 140.78556, -2.71667, 5.38333, -66.0, -94.3, -60.66667, 9.03333, -97.01, 0.3, 12.55, 80.625, -103.66667, -87.0, -96.15, 5.16667, 3.66667, 3.23333, 0.58333, -49.95083, 13.5, -103.5, 32.83333, -108.0, 38.0, 78.5, -82.48333000000002, -88.66667, 16.383329999999994, 101.18333, 107.6, 76.33333, 78.2, 106.0, -0.05, -2.5, 84.08333, 9.1, 76.8, -1.33972, -5.9, 20.93583, -98.31667, -83.75, -117.18913, -0.18333, -93.5, -101.2, -117.33333, -4.1, -96.46667, 82.91667, -8.15, 10.8, -89.15, 28.41667, -7.0, -67.55, -58.32833, -3.65, -3.8, -105.02325], \"lat\": [50.775, 56.18333000000001, 54.21666999999999, 16.883329999999994, -33.16667, 32.1, 44.83333, 44.21667, -31.6, -30.866670000000006, 16.39806, 19.08333, 29.51667, 29.71667, 8.91667, 39.91667, 24.41667, 13.660329999999998, 44.11667, 44.65, 2.0, 45.82133, 51.78333, 36.23333, 44.88333, 50.95, 45.26667, 42.53333, 26.96667, 20.74575, 35.27333, 27.66667, 26.58333, 44.61667, 48.7, 20.88333, -22.96667, 9.53333, 25.15, 40.81056, 53.58333, 43.86667, -33.0, 38.5, -31.41667, 42.45, 31.805, 52.05, 43.03333, 25.25417, 20.06667, 34.75, 34.31667, 44.38333, 36.16667, 44.33333, 43.08333, -21.46028, 46.0, 25.0, 2.71667, 36.8, 48.6, 28.48333, 35.96667, 34.5, 5.38333, 16.66667, -6.91667, 27.7, 30.4, -6.33333, 43.95, 42.38333, 52.73333, 52.0, 31.616670000000006, 52.56528, 15.78333, 52.03333, 45.41667, 38.25, 40.66813, 11.08333, 36.75, 39.8, 51.16667, 53.01667, 33.6, 25.366670000000006, 32.25, 32.86667, 39.08333, -26.16667, 30.0, 45.95, -31.91, 11.65, 41.68333, 40.30583], \"marker\": {\"size\": [1.3222192947339193, 2.8573324964312685, 5.02938377768521, 3.281941933440825, 2.8920946026904804, 3.627263416568221, 2.9590413923210934, 4.477121254719663, 3.2095150145426308, 3.1583624920952498, 3.0, 4.380211241711606, 2.8915374576725643, 3.255272505103306, 3.4771212547196626, 4.698970004336019, 2.2041199826559246, 2.845098040014257, 3.7781512503836434, 3.3010299956639813, 2.7958800173440754, 2.401400540781544, 2.845098040014257, 3.505149978319906, 2.958085848521085, 3.966188680956137, 5.357934847000454, 4.505149978319906, 6.301029995663981, 3.59659709562646, 3.7781512503836434, 3.806179973983887, 3.4313637641589874, 3.505149978319906, 2.7781512503836434, 4.252853030979893, 3.1760912590556813, 3.8129133566428557, 3.3979400086720375, 2.505149978319906, 4.176091259055681, 3.505149978319906, 2.90848501887865, 3.705007959333336, 3.8721562727482928, 1.6127838567197355, 3.9777236052888476, 3.113943352306837, 3.3010299956639813, 3.1072099696478683, 1.9740509027928774, 2.423245873936808, 3.141198844904737, 2.9030899869919438, 4.698970004336019, 3.3010299956639813, 4.698970004336019, 3.9698816437465, 3.089905111439398, 2.164352855784437, 2.1271047983648077, 3.45178643552429, 4.2552725051033065, 4.013763854733933, 3.568201724066995, 2.537819095073274, 3.0, 4.222716471147583, 4.060697840353612, 4.176091259055681, 1.146128035678238, 2.798650645445269, 3.806179973983887, 3.505149978319906, 1.3654879848908996, 1.2304489213782739, 3.6532125137753435, 4.643452676486188, 4.4707044297227885, 4.190331698170292, 4.3222192947339195, 4.9344984512435675, 3.462397997898956, 3.1922886125681202, 2.786041210242554, 4.204119982655925, 4.146128035678238, 2.8998205024270964, 2.574031267727719, 3.568201724066995, 4.3979400086720375, 4.278753600952829, 3.24809593109413, 3.5888317255942073, 4.653212513775344, 3.4533183400470375, 2.4313637641589874, 4.2552725051033065, 3.1583624920952498, 2.9822712330395684]}, \"mode\": \"markers\"}], {}, {\"showLink\": true, \"linkText\": \"Export to plot.ly\"})});</script>"
      ]
     },
     "metadata": {},
     "output_type": "display_data"
    }
   ],
   "source": [
    "trace3 = dict(\n",
    "    type = 'scattergeo',\n",
    "    lon = df2['reclong'],\n",
    "    lat = df2['reclat'],\n",
    "    marker = dict(\n",
    "        #color = ['red', 'blue'],\n",
    "        size = np.log10(df2['mass'])\n",
    "    ),\n",
    "    mode = 'markers'\n",
    "    \n",
    ")\n",
    "\n",
    "plotly.offline.iplot([trace3])"
   ]
  },
  {
   "cell_type": "code",
   "execution_count": 26,
   "metadata": {
    "collapsed": false
   },
   "outputs": [
    {
     "data": {
      "text/plain": [
       "7.7781512503836439"
      ]
     },
     "execution_count": 26,
     "metadata": {},
     "output_type": "execute_result"
    }
   ],
   "source": [
    "x = 60000000\n",
    "np.log10(x)"
   ]
  },
  {
   "cell_type": "code",
   "execution_count": null,
   "metadata": {
    "collapsed": true
   },
   "outputs": [],
   "source": []
  }
 ],
 "metadata": {
  "kernelspec": {
   "display_name": "Python 3",
   "language": "python",
   "name": "python3"
  },
  "language_info": {
   "codemirror_mode": {
    "name": "ipython",
    "version": 3
   },
   "file_extension": ".py",
   "mimetype": "text/x-python",
   "name": "python",
   "nbconvert_exporter": "python",
   "pygments_lexer": "ipython3",
   "version": "3.6.0"
  }
 },
 "nbformat": 4,
 "nbformat_minor": 2
}
