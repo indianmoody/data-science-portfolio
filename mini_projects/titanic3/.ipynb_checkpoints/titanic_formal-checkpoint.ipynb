{
 "cells": [
  {
   "cell_type": "code",
   "execution_count": 1,
   "metadata": {
    "collapsed": true
   },
   "outputs": [],
   "source": [
    "import numpy as np\n",
    "import pandas as pd"
   ]
  },
  {
   "cell_type": "code",
   "execution_count": null,
   "metadata": {
    "collapsed": true
   },
   "outputs": [],
   "source": []
  },
  {
   "cell_type": "code",
   "execution_count": 2,
   "metadata": {
    "collapsed": true
   },
   "outputs": [],
   "source": [
    "def process_titanic_train():\n",
    "    \n",
    "    df = pd.read_csv('titanic_train.csv')\n",
    "    \n",
    "    fill_dict = {}\n",
    "    \n",
    "    df.drop(columns=['PassengerId'], inplace=True)\n",
    "    Pclass_fill = df['Pclass'].mode()[0]\n",
    "    df['Pclass'].fillna(Pclass_fill, inplace=True)\n",
    "    fill_dict['Pclass'] = Pclass_fill\n",
    "    \n",
    "    Name_fill = \"no_name. is missing value\"\n",
    "    df['Name'].fillna(Name_fill, inplace=True)\n",
    "    fill_dict['Name'] = Name_fill\n",
    "    \n",
    "    df['title'] = df['Name'].apply(lambda x: x.split('.')[0].split()[-1].strip().lower())\n",
    "    common_titles = ['mr','mrs','miss','master']\n",
    "    df['title'] = df['title'].apply(lambda x: x if x in common_titles else 'special_title')\n",
    "    df.drop(columns=['Name'], inplace=True)\n",
    "    \n",
    "    def fill_sex(x):\n",
    "        if pd.isnull(x['Sex']):\n",
    "            if x['title'] in ['mrs','miss']:\n",
    "                return 'female'\n",
    "            else:\n",
    "                return 'male'\n",
    "        else:\n",
    "            return x['Sex']\n",
    "    \n",
    "    df['Sex'] = df.apply(lambda x: fill_sex(x), axis=1)\n",
    "    \n",
    "    age_fill = df.groupby(['Pclass','Sex']).mean()['Age']\n",
    "    df['Age'] = df.apply(lambda x: age_fill[x['Pclass']][x['Sex']] if pd.isnull(x['Age']) else x['Age'], axis=1)\n",
    "    fill_dict['Age'] = age_fill\n",
    "    \n",
    "    SibSp_fill = df['SibSp'].mode()[0]\n",
    "    df['SibSp'].fillna(SibSp_fill, inplace=True)\n",
    "    fill_dict['SibSp'] = SibSp_fill\n",
    "    \n",
    "    Parch_fill = df['Parch'].mode()[0]\n",
    "    df['Parch'].fillna(Parch_fill, inplace=True)\n",
    "    fill_dict['Parch'] = Parch_fill\n",
    "    \n",
    "    df['Ticket'].fillna(\"9\", inplace=True)\n",
    "    \n",
    "    fare_fill = df.groupby(['Pclass','Sex']).mean()['Fare']\n",
    "    df['Fare'] = df.apply(lambda x: fare_fill[x['Pclass']][x['Sex']] if pd.isnull(x['Fare']) else x['Fare'], axis=1)\n",
    "    fill_dict['Fare'] = fare_fill\n",
    "    \n",
    "    df['Cabin'] = df['Cabin'].apply(lambda x: 0 if pd.isnull(x) else 1)\n",
    "    \n",
    "    embarked_fill = df['Embarked'].mode()[0]\n",
    "    df['Embarked'].fillna(embarked_fill, inplace=True)\n",
    "    fill_dict['Embarked'] = embarked_fill\n",
    "    \n",
    "    df['age_group'] = pd.cut(df['Age'], bins=[0,5,14,60,100], labels=['infant','child','adult','old'])\n",
    "    df['family_size'] = df['SibSp'] + df['Parch']\n",
    "    df['ticket_feat'] = df['Ticket'].apply(lambda x: 'other_num' if x[0] in ['4','5','6','7','8','9'] else x[0])\n",
    "    df.drop(columns=['Ticket'], inplace=True)\n",
    "    df['fare_tier'] = pd.cut(df['Fare'], bins=[0,50,1000], labels=['economical','expensive'], include_lowest=True)\n",
    "    \n",
    "    df['Fare'] = df['Fare'].apply(np.log)\n",
    "    \n",
    "    return df, fill_dict"
   ]
  },
  {
   "cell_type": "code",
   "execution_count": 4,
   "metadata": {
    "collapsed": false
   },
   "outputs": [],
   "source": [
    "df, fill_dict = process_titanic_train()"
   ]
  },
  {
   "cell_type": "code",
   "execution_count": 5,
   "metadata": {
    "collapsed": false
   },
   "outputs": [
    {
     "data": {
      "text/html": [
       "<div>\n",
       "<style scoped>\n",
       "    .dataframe tbody tr th:only-of-type {\n",
       "        vertical-align: middle;\n",
       "    }\n",
       "\n",
       "    .dataframe tbody tr th {\n",
       "        vertical-align: top;\n",
       "    }\n",
       "\n",
       "    .dataframe thead th {\n",
       "        text-align: right;\n",
       "    }\n",
       "</style>\n",
       "<table border=\"1\" class=\"dataframe\">\n",
       "  <thead>\n",
       "    <tr style=\"text-align: right;\">\n",
       "      <th></th>\n",
       "      <th>Survived</th>\n",
       "      <th>Pclass</th>\n",
       "      <th>Sex</th>\n",
       "      <th>Age</th>\n",
       "      <th>SibSp</th>\n",
       "      <th>Parch</th>\n",
       "      <th>Fare</th>\n",
       "      <th>Cabin</th>\n",
       "      <th>Embarked</th>\n",
       "      <th>title</th>\n",
       "      <th>age_group</th>\n",
       "      <th>family_size</th>\n",
       "      <th>ticket_feat</th>\n",
       "      <th>fare_tier</th>\n",
       "    </tr>\n",
       "  </thead>\n",
       "  <tbody>\n",
       "    <tr>\n",
       "      <th>0</th>\n",
       "      <td>0</td>\n",
       "      <td>3</td>\n",
       "      <td>male</td>\n",
       "      <td>22.0</td>\n",
       "      <td>1</td>\n",
       "      <td>0</td>\n",
       "      <td>1.981001</td>\n",
       "      <td>0</td>\n",
       "      <td>S</td>\n",
       "      <td>mr</td>\n",
       "      <td>adult</td>\n",
       "      <td>1</td>\n",
       "      <td>A</td>\n",
       "      <td>economical</td>\n",
       "    </tr>\n",
       "    <tr>\n",
       "      <th>1</th>\n",
       "      <td>1</td>\n",
       "      <td>1</td>\n",
       "      <td>female</td>\n",
       "      <td>38.0</td>\n",
       "      <td>1</td>\n",
       "      <td>0</td>\n",
       "      <td>4.266662</td>\n",
       "      <td>1</td>\n",
       "      <td>C</td>\n",
       "      <td>mrs</td>\n",
       "      <td>adult</td>\n",
       "      <td>1</td>\n",
       "      <td>P</td>\n",
       "      <td>expensive</td>\n",
       "    </tr>\n",
       "    <tr>\n",
       "      <th>2</th>\n",
       "      <td>1</td>\n",
       "      <td>3</td>\n",
       "      <td>female</td>\n",
       "      <td>26.0</td>\n",
       "      <td>0</td>\n",
       "      <td>0</td>\n",
       "      <td>2.070022</td>\n",
       "      <td>0</td>\n",
       "      <td>S</td>\n",
       "      <td>miss</td>\n",
       "      <td>adult</td>\n",
       "      <td>0</td>\n",
       "      <td>S</td>\n",
       "      <td>economical</td>\n",
       "    </tr>\n",
       "    <tr>\n",
       "      <th>3</th>\n",
       "      <td>1</td>\n",
       "      <td>1</td>\n",
       "      <td>female</td>\n",
       "      <td>35.0</td>\n",
       "      <td>1</td>\n",
       "      <td>0</td>\n",
       "      <td>3.972177</td>\n",
       "      <td>1</td>\n",
       "      <td>S</td>\n",
       "      <td>mrs</td>\n",
       "      <td>adult</td>\n",
       "      <td>1</td>\n",
       "      <td>1</td>\n",
       "      <td>expensive</td>\n",
       "    </tr>\n",
       "    <tr>\n",
       "      <th>4</th>\n",
       "      <td>0</td>\n",
       "      <td>3</td>\n",
       "      <td>male</td>\n",
       "      <td>35.0</td>\n",
       "      <td>0</td>\n",
       "      <td>0</td>\n",
       "      <td>2.085672</td>\n",
       "      <td>0</td>\n",
       "      <td>S</td>\n",
       "      <td>mr</td>\n",
       "      <td>adult</td>\n",
       "      <td>0</td>\n",
       "      <td>3</td>\n",
       "      <td>economical</td>\n",
       "    </tr>\n",
       "  </tbody>\n",
       "</table>\n",
       "</div>"
      ],
      "text/plain": [
       "   Survived  Pclass     Sex   Age  SibSp  Parch      Fare  Cabin Embarked  \\\n",
       "0         0       3    male  22.0      1      0  1.981001      0        S   \n",
       "1         1       1  female  38.0      1      0  4.266662      1        C   \n",
       "2         1       3  female  26.0      0      0  2.070022      0        S   \n",
       "3         1       1  female  35.0      1      0  3.972177      1        S   \n",
       "4         0       3    male  35.0      0      0  2.085672      0        S   \n",
       "\n",
       "  title age_group  family_size ticket_feat   fare_tier  \n",
       "0    mr     adult            1           A  economical  \n",
       "1   mrs     adult            1           P   expensive  \n",
       "2  miss     adult            0           S  economical  \n",
       "3   mrs     adult            1           1   expensive  \n",
       "4    mr     adult            0           3  economical  "
      ]
     },
     "execution_count": 5,
     "metadata": {},
     "output_type": "execute_result"
    }
   ],
   "source": [
    "df.head()"
   ]
  },
  {
   "cell_type": "code",
   "execution_count": 6,
   "metadata": {
    "collapsed": false
   },
   "outputs": [
    {
     "data": {
      "text/plain": [
       "Survived       0\n",
       "Pclass         0\n",
       "Sex            0\n",
       "Age            0\n",
       "SibSp          0\n",
       "Parch          0\n",
       "Fare           0\n",
       "Cabin          0\n",
       "Embarked       0\n",
       "title          0\n",
       "age_group      0\n",
       "family_size    0\n",
       "ticket_feat    0\n",
       "fare_tier      0\n",
       "dtype: int64"
      ]
     },
     "execution_count": 6,
     "metadata": {},
     "output_type": "execute_result"
    }
   ],
   "source": [
    "df.isnull().sum()"
   ]
  },
  {
   "cell_type": "code",
   "execution_count": null,
   "metadata": {
    "collapsed": true
   },
   "outputs": [],
   "source": []
  }
 ],
 "metadata": {
  "kernelspec": {
   "display_name": "Python 3",
   "language": "python",
   "name": "python3"
  },
  "language_info": {
   "codemirror_mode": {
    "name": "ipython",
    "version": 3
   },
   "file_extension": ".py",
   "mimetype": "text/x-python",
   "name": "python",
   "nbconvert_exporter": "python",
   "pygments_lexer": "ipython3",
   "version": "3.6.5"
  }
 },
 "nbformat": 4,
 "nbformat_minor": 2
}
