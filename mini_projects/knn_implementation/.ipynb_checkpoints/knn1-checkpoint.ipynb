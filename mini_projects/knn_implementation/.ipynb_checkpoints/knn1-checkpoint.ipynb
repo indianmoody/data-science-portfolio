{
 "cells": [
  {
   "cell_type": "code",
   "execution_count": 1,
   "metadata": {
    "collapsed": true
   },
   "outputs": [],
   "source": [
    "import numpy as np\n",
    "import matplotlib.pyplot as plt"
   ]
  },
  {
   "cell_type": "code",
   "execution_count": 2,
   "metadata": {
    "collapsed": true
   },
   "outputs": [],
   "source": [
    "data = { 'india': [(1,1),(1,2),(1,3),(2,1),(2,2)], 'abroad': [(3,2),(3,4),(4,2),(4,3)]}"
   ]
  },
  {
   "cell_type": "code",
   "execution_count": 7,
   "metadata": {
    "collapsed": true
   },
   "outputs": [],
   "source": [
    "color_choice = ['r', 'b', 'g']"
   ]
  },
  {
   "cell_type": "code",
   "execution_count": 9,
   "metadata": {
    "collapsed": false
   },
   "outputs": [
    {
     "data": {
      "image/png": "[encoded data removed]",
      "text/plain": [
       "<matplotlib.figure.Figure at 0x10d609b70>"
      ]
     },
     "metadata": {},
     "output_type": "display_data"
    }
   ],
   "source": [
    "[[plt.scatter(point[0], point[1], color = color_choice[i]) for point in data[categ]] for i, categ in enumerate(data)]\n",
    "plt.show()"
   ]
  },
  {
   "cell_type": "code",
   "execution_count": 13,
   "metadata": {
    "collapsed": true
   },
   "outputs": [],
   "source": [
    "def knn(data, k, pt):\n",
    "    kdict = {}\n",
    "  \n",
    "    for lists in data.values():\n",
    "        for elem in lists:\n",
    "            dist = np.linalg.norm(np.array(elem) - np.array(pt))\n",
    "            kdict[elem] = dist\n",
    "      \n",
    "    klist = sorted(kdict.keys(), key=lambda x: kdict[x])[:k]\n",
    "  \n",
    "    india = 0\n",
    "    abroad = 0 \n",
    "    shit = 0\n",
    "  \n",
    "    for i in klist:\n",
    "        if i in data['india']:\n",
    "            india += 1\n",
    "            data['india'].append(pt)\n",
    "        elif i in data['abroad']:\n",
    "            abroad += 1 \n",
    "            data['abroad'].append(pt)\n",
    "        else:\n",
    "            shit += 1\n",
    "  \n",
    "    print(\"india: {}\\nabroad: {}\\nshit: {}\\n\".format(india, abroad, shit))\n",
    "    \n",
    "    return data\n",
    "    \n",
    "    "
   ]
  },
  {
   "cell_type": "code",
   "execution_count": 14,
   "metadata": {
    "collapsed": false
   },
   "outputs": [
    {
     "name": "stdout",
     "output_type": "stream",
     "text": [
      "india: 3\n",
      "abroad: 0\n",
      "shit: 0\n",
      "\n"
     ]
    }
   ],
   "source": [
    "data = knn(data, 3, (1.5,2))"
   ]
  },
  {
   "cell_type": "code",
   "execution_count": 15,
   "metadata": {
    "collapsed": false
   },
   "outputs": [
    {
     "data": {
      "image/png": "[encoded data removed]",
      "text/plain": [
       "<matplotlib.figure.Figure at 0x116e0b518>"
      ]
     },
     "metadata": {},
     "output_type": "display_data"
    }
   ],
   "source": [
    "[[plt.scatter(point[0], point[1], color = color_choice[i]) for point in data[categ]] for i, categ in enumerate(data)]\n",
    "plt.show()"
   ]
  },
  {
   "cell_type": "code",
   "execution_count": null,
   "metadata": {
    "collapsed": true
   },
   "outputs": [],
   "source": []
  }
 ],
 "metadata": {
  "kernelspec": {
   "display_name": "Python 3",
   "language": "python",
   "name": "python3"
  },
  "language_info": {
   "codemirror_mode": {
    "name": "ipython",
    "version": 3
   },
   "file_extension": ".py",
   "mimetype": "text/x-python",
   "name": "python",
   "nbconvert_exporter": "python",
   "pygments_lexer": "ipython3",
   "version": "3.6.0"
  }
 },
 "nbformat": 4,
 "nbformat_minor": 2
}
