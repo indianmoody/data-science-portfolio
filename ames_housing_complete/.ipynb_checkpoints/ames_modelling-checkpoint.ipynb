{
 "cells": [
  {
   "cell_type": "code",
   "execution_count": 1,
   "metadata": {
    "collapsed": true
   },
   "outputs": [],
   "source": [
    "import numpy as np\n",
    "import pandas as pd"
   ]
  },
  {
   "cell_type": "code",
   "execution_count": 32,
   "metadata": {
    "collapsed": true
   },
   "outputs": [],
   "source": [
    "# %load ames_feat_transform.py\n",
    "def trans_features(df):\n",
    "    \n",
    "    # drop irrelevant features\n",
    "    drop_list = pd.read_excel('data/old_features_ames.xlsx', usecols=\"A,D\").dropna()['Feature'].tolist()\n",
    "    df.drop(columns=drop_list, inplace=True)\n",
    "    \n",
    "    # fill missing values\n",
    "    ofdf = pd.read_excel('data/old_features_ames.xlsx', usecols=\"A,F\")\n",
    "    ofdf = ofdf[~ofdf['Feature'].isin(drop_list)]\n",
    "    ofdf.dropna(inplace=True) #only target 'SalePrice' has NaN for 'Missing Handle'\n",
    "    median_list = ofdf[ofdf['Missing Handle']=='median']['Feature'].tolist()\n",
    "    mode_list = ofdf[ofdf['Missing Handle']=='mode']['Feature'].tolist()\n",
    "    \n",
    "    for med in median_list:\n",
    "        df[med].fillna(df[med].median(), inplace=True)\n",
    "    \n",
    "    for mod in mode_list:\n",
    "        df[mod].fillna(df[mod].mode()[0], inplace=True)\n",
    "    \n",
    "    cusdf = pd.read_excel('data/old_features_ames.xlsx', usecols=\"A,G\")\n",
    "    cusdf.dropna(inplace=True)\n",
    "    for index, row in cusdf.iterrows():\n",
    "        df[row['Feature']].fillna(row['Missing Custom'], inplace=True)\n",
    "    \n",
    "    \n",
    "    # new features\n",
    "    df['UnfinishedBasement'] = df['BsmtUnfSF'].apply(lambda x: 0 if x==0 else 1)\n",
    "    df['SecondFloor'] = df['2ndFlrSF'].apply(lambda x: 0 if x==0 else 1)\n",
    "    df['TotalFullBath'] = df['BsmtFullBath'] + df['FullBath']\n",
    "    df['TotalHalfBath'] = df['BsmtHalfBath'] + df['HalfBath']\n",
    "    df['OtherRmsAbvGrd'] = df['TotRmsAbvGrd'] - df['BedroomAbvGr']\n",
    "    \n",
    "    # transformations\n",
    "    log_list = ['LotFrontage','LotArea','TotalBsmtSF','1stFlrSF','GrLivArea']\n",
    "    for logf in log_list:\n",
    "        df[logf] = df[logf].apply(lambda x: np.log(x+1))\n",
    "    \n",
    "    mssubclass_mapper = {\n",
    "        20 : 'mssub1',\n",
    "        30 : 'mssub2',\n",
    "        40 : 'mssub3',\n",
    "        45 : 'mssub4',\n",
    "        50 : 'mssub5',\n",
    "        60 : 'mssub6',\n",
    "        70 : 'mssub7',\n",
    "        75 : 'mssub8',\n",
    "        80 : 'mssub9',\n",
    "        85 : 'mssub10',\n",
    "        90 : 'mssub11',\n",
    "        120 : 'mssub12',\n",
    "        150 : 'mssub13',\n",
    "        160 : 'mssub14',\n",
    "        180 : 'mssub15',\n",
    "        190 : 'mssub16'\n",
    "    }\n",
    "    \n",
    "    df['MSSubClass'].replace(mssubclass_mapper, inplace=True)\n",
    "    #df['MoSold'].replace(mosold_mapper, inplace=True)\n",
    "    \n",
    "    df['GarageYrBlt'] = df['GarageYrBlt'] - 1890\n",
    "    df['YearBuilt'] = df['YearBuilt'] - 1850\n",
    "    df['YearRemodAdd'] = df['YearRemodAdd'] - 1940\n",
    "    \n",
    "    def change_categories(x, cat_dict):\n",
    "        if x in cat_dict.keys():\n",
    "            return cat_dict[x]\n",
    "        elif 'rare_cat_name' in cat_dict.keys():\n",
    "            return cat_dict['rare_cat_name']\n",
    "        else:\n",
    "            return 'others'\n",
    "    \n",
    "    \n",
    "    df['MSZoning'] = df['MSZoning'].apply(lambda x: change_categories(x, {'RL':'RL','FV':'FV'}))\n",
    "    df['LotShape'] = df['LotShape'].apply(lambda x: change_categories(x, {'Reg':'Reg','rare_cat_name':'Irreg'}))\n",
    "    df['LandContour'] = df['LandContour'].apply(lambda x: change_categories(x, {'Lvl':'Lvl','Bnk':'Bnk'}))\n",
    "    df['LotConfig'] = df['LotConfig'].apply(lambda x: change_categories(x, {'Inside':'Inside','FR2':'FR2','Corner':'Corner','rare_cat_name':'CulDFR3'}))\n",
    "    df['Neighborhood'] = df['Neighborhood'].apply(lambda x: change_categories(x, {'Blmngtn': 'nhood2',  'Blueste': 'nhood3',  'BrDale': 'nhood3',  'BrkSide': 'nhood3',  'ClearCr': 'nhood2',  'CollgCr': 'nhood2',  'Crawfor': 'nhood2',  'Edwards': 'nhood3',  'Gilbert': 'nhood2',  'IDOTRR': 'nhood3',  'MeadowV': 'nhood3',  'Mitchel': 'nhood3',  'NAmes': 'nhood3',  'NPkVill': 'nhood3',  'NWAmes': 'nhood2',  'NoRidge': 'nhood1',  'NridgHt': 'nhood1',  'OldTown': 'nhood3',  'SWISU': 'nhood3',  'Sawyer': 'nhood3',  'SawyerW': 'nhood2',  'Somerst': 'nhood2',  'StoneBr': 'nhood1',  'Timber': 'nhood2',  'Veenker': 'nhood2'}))\n",
    "    df['Exterior1st'] = df['Exterior1st'].apply(lambda x: change_categories(x, {'AsbShng': 'Ext1_low',  'AsphShn': 'Ext1_low',  'BrkComm': 'Ext1_low',  'BrkFace': 'Ext1_low',  'CBlock': 'Ext1_low',  'CemntBd': 'Ext1_high',  'HdBoard': 'Ext1_low',  'ImStucc': 'Ext1_high',  'MetalSd': 'Ext1_low',  'Plywood': 'Ext1_low',  'Stone': 'Ext1_high',  'Stucco': 'Ext1_low',  'VinylSd': 'Ext1_high',  'Wd Sdng': 'Ext1_low',  'WdShing': 'Ext1_low'}))\n",
    "    df['Exterior2nd'] = df['Exterior2nd'].apply(lambda x: change_categories(x, {'AsbShng': 'Ext2_low',  'AsphShn': 'Ext2_low',  'Brk Cmn': 'Ext2_low',  'BrkFace': 'Ext2_low',  'CBlock': 'Ext2_low',  'CmentBd': 'Ext2_high',  'HdBoard': 'Ext2_low',  'ImStucc': 'Ext2_high',  'MetalSd': 'Ext2_low',  'Other': 'Ext2_high',  'Plywood': 'Ext2_low',  'Stone': 'Ext2_low',  'Stucco': 'Ext2_low',  'VinylSd': 'Ext2_high',  'Wd Sdng': 'Ext2_low',  'Wd Shng': 'Ext2_low'}))\n",
    "    df['BldgType'] = df['BldgType'].apply(lambda x: change_categories(x, {'1Fam':'1Fam','TwnhsE':'TwnhsE'}))\n",
    "    df['HouseStyle'] = df['HouseStyle'].apply(lambda x: change_categories(x, {'1Story':'1Story','1.5Fin':'1.5Fin','2Story':'2Level','2.5Fin':'2Level','rare_cat_name':'other_style'}))\n",
    "    df['RoofStyle'] = df['RoofStyle'].apply(lambda x: change_categories(x, {'Hip':'Hip','Shed':'Hip','rare_cat_name':'Gable'}))\n",
    "    df['MasVnrType'] = df['MasVnrType'].apply(lambda x: change_categories(x, {'BrkFace':'Brick','None':'None','BrkCmn':'Brick','Stone':'Stone'}))\n",
    "    df['ExterQual'] = df['ExterQual'].apply(lambda x: change_categories(x, {'Po':1,'Fa':2,'TA':3,'Gd':4,'Ex':5}))\n",
    "    #df['ExterCond'] = df['ExterCond'].apply(lambda x: change_categories(x, {'Po':1,'Fa':2,'TA':3,'Gd':4,'Ex':5}))\n",
    "    df['Foundation'] = df['Foundation'].apply(lambda x: change_categories(x, {'PConc':'PConc','Wood':'PConc','CBlock':'CBlock','Stone':'CBlock','BrkTil':'BrkTil','Slab':'BrkTil'}))\n",
    "    df['BsmtQual'] = df['BsmtQual'].apply(lambda x: change_categories(x, {'Po':1,'Fa':2,'TA':3,'Gd':4,'Ex':5}))\n",
    "    df['HeatingQC'] = df['HeatingQC'].apply(lambda x: change_categories(x, {'Po':1,'Fa':2,'TA':3,'Gd':4,'Ex':5}))\n",
    "    df['Electrical'] = df['Electrical'].apply(lambda x: change_categories(x, {'SBrkr':'SBrkr','rare_cat_name':'FuseBox'}))\n",
    "    df['KitchenQual'] = df['KitchenQual'].apply(lambda x: change_categories(x, {'Po':1,'Fa':2,'TA':3,'Gd':4,'Ex':5}))\n",
    "    df['FireplaceQu'] = df['FireplaceQu'].apply(lambda x: change_categories(x, {'Po':1,'Fa':2,'TA':3,'Gd':4,'Ex':5}))\n",
    "    df['GarageType'] = df['GarageType'].apply(lambda x: change_categories(x, {'Attchd':'Attchd','BuiltIn':'BuiltIn','Detchd':'Detchd','Basment':'Detchd','2Types':'Detchd','NoGarage':'NoGarage','CarPort':'NoGarage'}))\n",
    "    #df['Fence'] = df['Fence'].apply(lambda x: change_categories(x, {'NoFence':'NoFence','GdPrv':'NoFence','rare_cat_name':'MnPrv'}))\n",
    "    df['SaleType'] = df['SaleType'].apply(lambda x: change_categories(x, {'New':'New','Con':'New','rare_cat_name':'WD'}))\n",
    "    df['SaleCondition'] = df['SaleCondition'].apply(lambda x: change_categories(x, {'Normal':'Normal','Partial':'Partial','rare_cat_name':'Abnormal'}))\n",
    "    \n",
    "    df['TotalFullBath'] = df['TotalFullBath'].apply(lambda x: 1 if x<1 else 4 if x>4 else x)\n",
    "    df['TotalHalfBath'] = df['TotalHalfBath'].apply(lambda x: 0 if x==0 else 1)\n",
    "    df['OtherRmsAbvGrd'] = df['OtherRmsAbvGrd'].apply(lambda x: 1 if x<1 else 8 if x>8 else x)\n",
    "    \n",
    "    # drop features no longer relevant\n",
    "    df.drop(columns=['BsmtUnfSF','2ndFlrSF','BsmtHalfBath'], inplace=True)\n",
    "    \n",
    "    return df"
   ]
  },
  {
   "cell_type": "code",
   "execution_count": 27,
   "metadata": {
    "collapsed": false
   },
   "outputs": [],
   "source": [
    "normalize_list = pd.read_excel('data/old_features_ames.xlsx', usecols=\"A,K\").dropna()['Feature'].tolist()\n",
    "normalize_list.extend(['TotalFullBath','TotalHalfBath','OtherRmsAbvGrd'])"
   ]
  },
  {
   "cell_type": "code",
   "execution_count": null,
   "metadata": {
    "collapsed": true
   },
   "outputs": [],
   "source": []
  },
  {
   "cell_type": "code",
   "execution_count": 10,
   "metadata": {
    "collapsed": true
   },
   "outputs": [],
   "source": [
    "df = pd.read_csv('data/train.csv')"
   ]
  },
  {
   "cell_type": "code",
   "execution_count": 11,
   "metadata": {
    "collapsed": false
   },
   "outputs": [],
   "source": [
    "df = trans_features(df)"
   ]
  },
  {
   "cell_type": "code",
   "execution_count": 12,
   "metadata": {
    "collapsed": false
   },
   "outputs": [
    {
     "data": {
      "text/plain": [
       "(1460, 52)"
      ]
     },
     "execution_count": 12,
     "metadata": {},
     "output_type": "execute_result"
    }
   ],
   "source": [
    "df.shape"
   ]
  },
  {
   "cell_type": "code",
   "execution_count": 15,
   "metadata": {
    "collapsed": false
   },
   "outputs": [
    {
     "data": {
      "text/plain": [
       "0"
      ]
     },
     "execution_count": 15,
     "metadata": {},
     "output_type": "execute_result"
    }
   ],
   "source": [
    "df.isnull().any().sum()"
   ]
  },
  {
   "cell_type": "code",
   "execution_count": 21,
   "metadata": {
    "collapsed": false
   },
   "outputs": [],
   "source": [
    "from sklearn.preprocessing import StandardScaler"
   ]
  },
  {
   "cell_type": "code",
   "execution_count": 54,
   "metadata": {
    "collapsed": false
   },
   "outputs": [
    {
     "name": "stderr",
     "output_type": "stream",
     "text": [
      "/anaconda/lib/python3.6/site-packages/sklearn/preprocessing/data.py:625: DataConversionWarning: Data with input dtype int64, float64 were all converted to float64 by StandardScaler.\n",
      "  return self.partial_fit(X, y)\n",
      "/anaconda/lib/python3.6/site-packages/sklearn/base.py:462: DataConversionWarning: Data with input dtype int64, float64 were all converted to float64 by StandardScaler.\n",
      "  return self.fit(X, **fit_params).transform(X)\n"
     ]
    }
   ],
   "source": [
    "scaler = StandardScaler()\n",
    "df2 = df.copy()\n",
    "df2[normalize_list] = scaler.fit_transform(df2[normalize_list])\n",
    "cat_list = df2.select_dtypes(exclude=np.number).columns.tolist()\n",
    "df2_cat = pd.get_dummies(df2[cat_list])\n",
    "df2.drop(columns=cat_list, inplace=True)\n",
    "df2 = pd.concat([df2,df2_cat], axis=1)"
   ]
  },
  {
   "cell_type": "code",
   "execution_count": 55,
   "metadata": {
    "collapsed": false
   },
   "outputs": [
    {
     "data": {
      "text/plain": [
       "(1460, 113)"
      ]
     },
     "execution_count": 55,
     "metadata": {},
     "output_type": "execute_result"
    }
   ],
   "source": [
    "df2.shape"
   ]
  },
  {
   "cell_type": "code",
   "execution_count": null,
   "metadata": {
    "collapsed": true
   },
   "outputs": [],
   "source": []
  },
  {
   "cell_type": "code",
   "execution_count": null,
   "metadata": {
    "collapsed": true
   },
   "outputs": [],
   "source": []
  },
  {
   "cell_type": "code",
   "execution_count": null,
   "metadata": {
    "collapsed": true
   },
   "outputs": [],
   "source": []
  }
 ],
 "metadata": {
  "kernelspec": {
   "display_name": "Python 3",
   "language": "python",
   "name": "python3"
  },
  "language_info": {
   "codemirror_mode": {
    "name": "ipython",
    "version": 3
   },
   "file_extension": ".py",
   "mimetype": "text/x-python",
   "name": "python",
   "nbconvert_exporter": "python",
   "pygments_lexer": "ipython3",
   "version": "3.6.5"
  }
 },
 "nbformat": 4,
 "nbformat_minor": 2
}
