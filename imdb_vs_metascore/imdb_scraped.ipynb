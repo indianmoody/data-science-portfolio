{
 "cells": [
  {
   "cell_type": "code",
   "execution_count": 1,
   "metadata": {
    "collapsed": true
   },
   "outputs": [],
   "source": [
    "import requests\n",
    "from bs4 import BeautifulSoup\n",
    "import numpy as np\n",
    "import pandas as pd"
   ]
  },
  {
   "cell_type": "code",
   "execution_count": 2,
   "metadata": {
    "collapsed": false
   },
   "outputs": [],
   "source": [
    "title_list = []\n",
    "year_list = []\n",
    "imdb_score_list = []\n",
    "metascore_list = []\n",
    "votes_list = []\n",
    "gross_list = []\n",
    "\n",
    "for page_no in range(1,51):\n",
    "    imdb_url = \"http://www.imdb.com/search/title?sort=num_votes&title_type=feature&view=advanced&page=\" + str(page_no) + \"&ref_=adv_nxt\"\n",
    "    page = requests.get(imdb_url)\n",
    "    soup = BeautifulSoup(page.content, 'html.parser')\n",
    "    \n",
    "    movie_boxes = soup.select(\"div[class='lister-item mode-advanced']\")\n",
    "    \n",
    "    for movie_box in movie_boxes:\n",
    "        title = movie_box.select(\"h3 a\")[0].text\n",
    "        year = movie_box.select(\"span.lister-item-year\")[0].text\n",
    "        imdb_score = float(movie_box.select(\"div[class='inline-block ratings-imdb-rating'] strong\")[0].text)\n",
    "        if len(movie_box.select(\"div[class='inline-block ratings-metascore'] span\")) != 0:\n",
    "            #print(title)\n",
    "            #print(movie_box.select(\"div[class='inline-block ratings-metascore'] span\"))\n",
    "            metascore = int(movie_box.select(\"div[class='inline-block ratings-metascore'] span\")[0].text)\n",
    "        else:\n",
    "            continue\n",
    "        if len(movie_box.select(\"span[name='nv']\")) == 2:\n",
    "            temp_nv = movie_box.select(\"span[name='nv']\")\n",
    "            votes = temp_nv[0]['data-value']\n",
    "            gross = temp_nv[1]['data-value']\n",
    "        else:\n",
    "            continue\n",
    "        title_list.append(title)\n",
    "        year_list.append(year)\n",
    "        imdb_score_list.append(imdb_score)\n",
    "        metascore_list.append(metascore)\n",
    "        votes_list.append(votes)\n",
    "        gross_list.append(gross)\n",
    "    "
   ]
  },
  {
   "cell_type": "code",
   "execution_count": 3,
   "metadata": {
    "collapsed": false
   },
   "outputs": [
    {
     "name": "stdout",
     "output_type": "stream",
     "text": [
      "2222\n",
      "2222\n",
      "2222\n",
      "2222\n",
      "2222\n",
      "2222\n"
     ]
    }
   ],
   "source": [
    "print(\"{}\\n{}\\n{}\\n{}\\n{}\\n{}\".format(len(title_list), len(year_list), len(imdb_score_list), len(metascore_list), len(votes_list), len(gross_list)))"
   ]
  },
  {
   "cell_type": "code",
   "execution_count": 4,
   "metadata": {
    "collapsed": true
   },
   "outputs": [],
   "source": [
    "df = pd.DataFrame({'imdb':imdb_score_list, 'metascore':metascore_list, 'movie':title_list, 'votes':votes_list, 'gross':gross_list, 'year':year_list})\n",
    "df = df[['movie','imdb','metascore','votes','gross','year']]"
   ]
  },
  {
   "cell_type": "code",
   "execution_count": 5,
   "metadata": {
    "collapsed": false
   },
   "outputs": [
    {
     "data": {
      "text/html": [
       "<div>\n",
       "<style>\n",
       "    .dataframe thead tr:only-child th {\n",
       "        text-align: right;\n",
       "    }\n",
       "\n",
       "    .dataframe thead th {\n",
       "        text-align: left;\n",
       "    }\n",
       "\n",
       "    .dataframe tbody tr th {\n",
       "        vertical-align: top;\n",
       "    }\n",
       "</style>\n",
       "<table border=\"1\" class=\"dataframe\">\n",
       "  <thead>\n",
       "    <tr style=\"text-align: right;\">\n",
       "      <th></th>\n",
       "      <th>movie</th>\n",
       "      <th>imdb</th>\n",
       "      <th>metascore</th>\n",
       "      <th>votes</th>\n",
       "      <th>gross</th>\n",
       "      <th>year</th>\n",
       "    </tr>\n",
       "  </thead>\n",
       "  <tbody>\n",
       "    <tr>\n",
       "      <th>0</th>\n",
       "      <td>The Shawshank Redemption</td>\n",
       "      <td>9.3</td>\n",
       "      <td>80</td>\n",
       "      <td>1838073</td>\n",
       "      <td>28,341,469</td>\n",
       "      <td>(1994)</td>\n",
       "    </tr>\n",
       "    <tr>\n",
       "      <th>1</th>\n",
       "      <td>The Dark Knight</td>\n",
       "      <td>9.0</td>\n",
       "      <td>82</td>\n",
       "      <td>1817974</td>\n",
       "      <td>533,316,061</td>\n",
       "      <td>(2008)</td>\n",
       "    </tr>\n",
       "    <tr>\n",
       "      <th>2</th>\n",
       "      <td>Inception</td>\n",
       "      <td>8.8</td>\n",
       "      <td>74</td>\n",
       "      <td>1608158</td>\n",
       "      <td>292,568,851</td>\n",
       "      <td>(2010)</td>\n",
       "    </tr>\n",
       "    <tr>\n",
       "      <th>3</th>\n",
       "      <td>Fight Club</td>\n",
       "      <td>8.8</td>\n",
       "      <td>66</td>\n",
       "      <td>1473065</td>\n",
       "      <td>37,023,395</td>\n",
       "      <td>(1999)</td>\n",
       "    </tr>\n",
       "    <tr>\n",
       "      <th>4</th>\n",
       "      <td>Pulp Fiction</td>\n",
       "      <td>8.9</td>\n",
       "      <td>94</td>\n",
       "      <td>1438920</td>\n",
       "      <td>107,930,000</td>\n",
       "      <td>(1994)</td>\n",
       "    </tr>\n",
       "  </tbody>\n",
       "</table>\n",
       "</div>"
      ],
      "text/plain": [
       "                      movie  imdb  metascore    votes        gross    year\n",
       "0  The Shawshank Redemption   9.3         80  1838073   28,341,469  (1994)\n",
       "1           The Dark Knight   9.0         82  1817974  533,316,061  (2008)\n",
       "2                 Inception   8.8         74  1608158  292,568,851  (2010)\n",
       "3                Fight Club   8.8         66  1473065   37,023,395  (1999)\n",
       "4              Pulp Fiction   8.9         94  1438920  107,930,000  (1994)"
      ]
     },
     "execution_count": 5,
     "metadata": {},
     "output_type": "execute_result"
    }
   ],
   "source": [
    "df.head()"
   ]
  },
  {
   "cell_type": "code",
   "execution_count": 6,
   "metadata": {
    "collapsed": false
   },
   "outputs": [],
   "source": [
    "df['gross'] = df['gross'].apply(lambda x: int((''.join(x.split(','))).rstrip()))"
   ]
  },
  {
   "cell_type": "code",
   "execution_count": 7,
   "metadata": {
    "collapsed": false
   },
   "outputs": [
    {
     "data": {
      "text/html": [
       "<div>\n",
       "<style>\n",
       "    .dataframe thead tr:only-child th {\n",
       "        text-align: right;\n",
       "    }\n",
       "\n",
       "    .dataframe thead th {\n",
       "        text-align: left;\n",
       "    }\n",
       "\n",
       "    .dataframe tbody tr th {\n",
       "        vertical-align: top;\n",
       "    }\n",
       "</style>\n",
       "<table border=\"1\" class=\"dataframe\">\n",
       "  <thead>\n",
       "    <tr style=\"text-align: right;\">\n",
       "      <th></th>\n",
       "      <th>movie</th>\n",
       "      <th>imdb</th>\n",
       "      <th>metascore</th>\n",
       "      <th>votes</th>\n",
       "      <th>gross</th>\n",
       "      <th>year</th>\n",
       "    </tr>\n",
       "  </thead>\n",
       "  <tbody>\n",
       "    <tr>\n",
       "      <th>0</th>\n",
       "      <td>The Shawshank Redemption</td>\n",
       "      <td>9.3</td>\n",
       "      <td>80</td>\n",
       "      <td>1838073</td>\n",
       "      <td>28341469</td>\n",
       "      <td>(1994)</td>\n",
       "    </tr>\n",
       "    <tr>\n",
       "      <th>1</th>\n",
       "      <td>The Dark Knight</td>\n",
       "      <td>9.0</td>\n",
       "      <td>82</td>\n",
       "      <td>1817974</td>\n",
       "      <td>533316061</td>\n",
       "      <td>(2008)</td>\n",
       "    </tr>\n",
       "    <tr>\n",
       "      <th>2</th>\n",
       "      <td>Inception</td>\n",
       "      <td>8.8</td>\n",
       "      <td>74</td>\n",
       "      <td>1608158</td>\n",
       "      <td>292568851</td>\n",
       "      <td>(2010)</td>\n",
       "    </tr>\n",
       "    <tr>\n",
       "      <th>3</th>\n",
       "      <td>Fight Club</td>\n",
       "      <td>8.8</td>\n",
       "      <td>66</td>\n",
       "      <td>1473065</td>\n",
       "      <td>37023395</td>\n",
       "      <td>(1999)</td>\n",
       "    </tr>\n",
       "    <tr>\n",
       "      <th>4</th>\n",
       "      <td>Pulp Fiction</td>\n",
       "      <td>8.9</td>\n",
       "      <td>94</td>\n",
       "      <td>1438920</td>\n",
       "      <td>107930000</td>\n",
       "      <td>(1994)</td>\n",
       "    </tr>\n",
       "  </tbody>\n",
       "</table>\n",
       "</div>"
      ],
      "text/plain": [
       "                      movie  imdb  metascore    votes      gross    year\n",
       "0  The Shawshank Redemption   9.3         80  1838073   28341469  (1994)\n",
       "1           The Dark Knight   9.0         82  1817974  533316061  (2008)\n",
       "2                 Inception   8.8         74  1608158  292568851  (2010)\n",
       "3                Fight Club   8.8         66  1473065   37023395  (1999)\n",
       "4              Pulp Fiction   8.9         94  1438920  107930000  (1994)"
      ]
     },
     "execution_count": 7,
     "metadata": {},
     "output_type": "execute_result"
    }
   ],
   "source": [
    "df.head()"
   ]
  },
  {
   "cell_type": "code",
   "execution_count": 8,
   "metadata": {
    "collapsed": false
   },
   "outputs": [
    {
     "data": {
      "text/plain": [
       "array(['(1994)', '(2008)', '(2010)', '(1999)', '(2001)', '(2003)',\n",
       "       '(1972)', '(2012)', '(2002)', '(1995)', '(2014)', '(2000)',\n",
       "       '(2005)', '(1977)', '(1991)', '(2009)', '(1998)', '(2006)',\n",
       "       '(1993)', '(1980)', '(2013)', '(1974)', '(1997)', '(1985)',\n",
       "       '(1990)', '(1983)', '(1975)', '(2004)', '(1992)', '(1981)',\n",
       "       '(2015)', '(2007)', '(2016)', '(1984)', '(1988)', '(1979)',\n",
       "       '(2011)', '(1989)', '(1966)', '(1986)', '(1987)', '(1996)',\n",
       "       '(I) (2008)', '(1982)', '(I) (2013)', '(I) (2012)', '(1968)',\n",
       "       '(I) (2011)', '(1960)', '(I) (2015)', '(1976)', '(I) (2004)',\n",
       "       '(II) (2016)', '(I) (2014)', '(2017)', '(I) (2010)', '(1939)',\n",
       "       '(1973)', '(I) (2009)', '(I) (2016)', '(I) (2005)', '(I) (2007)',\n",
       "       '(II) (2014)', '(I) (2006)', '(1954)', '(I) (1995)', '(1967)',\n",
       "       '(1962)', '(IX) (2016)', '(I) (2000)', '(1978)', '(1959)',\n",
       "       '(II) (2015)', '(1969)', '(1936)', '(I) (1998)', '(I) (2017)',\n",
       "       '(1964)', '(1927)', '(I) (1999)', '(II) (2013)', '(VI) (2015)',\n",
       "       '(1963)', '(I) (2003)', '(II) (2009)', '(1965)', '(I) (1990)',\n",
       "       '(1971)', '(1970)'], dtype=object)"
      ]
     },
     "execution_count": 8,
     "metadata": {},
     "output_type": "execute_result"
    }
   ],
   "source": [
    "df['year'].unique()"
   ]
  },
  {
   "cell_type": "code",
   "execution_count": 9,
   "metadata": {
    "collapsed": false
   },
   "outputs": [],
   "source": [
    "df['year'] = df['year'].apply(lambda x: int(x[-5:-1]))"
   ]
  },
  {
   "cell_type": "code",
   "execution_count": 10,
   "metadata": {
    "collapsed": false
   },
   "outputs": [
    {
     "data": {
      "text/html": [
       "<div>\n",
       "<style>\n",
       "    .dataframe thead tr:only-child th {\n",
       "        text-align: right;\n",
       "    }\n",
       "\n",
       "    .dataframe thead th {\n",
       "        text-align: left;\n",
       "    }\n",
       "\n",
       "    .dataframe tbody tr th {\n",
       "        vertical-align: top;\n",
       "    }\n",
       "</style>\n",
       "<table border=\"1\" class=\"dataframe\">\n",
       "  <thead>\n",
       "    <tr style=\"text-align: right;\">\n",
       "      <th></th>\n",
       "      <th>movie</th>\n",
       "      <th>imdb</th>\n",
       "      <th>metascore</th>\n",
       "      <th>votes</th>\n",
       "      <th>gross</th>\n",
       "      <th>year</th>\n",
       "    </tr>\n",
       "  </thead>\n",
       "  <tbody>\n",
       "    <tr>\n",
       "      <th>0</th>\n",
       "      <td>The Shawshank Redemption</td>\n",
       "      <td>9.3</td>\n",
       "      <td>80</td>\n",
       "      <td>1838073</td>\n",
       "      <td>28341469</td>\n",
       "      <td>1994</td>\n",
       "    </tr>\n",
       "    <tr>\n",
       "      <th>1</th>\n",
       "      <td>The Dark Knight</td>\n",
       "      <td>9.0</td>\n",
       "      <td>82</td>\n",
       "      <td>1817974</td>\n",
       "      <td>533316061</td>\n",
       "      <td>2008</td>\n",
       "    </tr>\n",
       "    <tr>\n",
       "      <th>2</th>\n",
       "      <td>Inception</td>\n",
       "      <td>8.8</td>\n",
       "      <td>74</td>\n",
       "      <td>1608158</td>\n",
       "      <td>292568851</td>\n",
       "      <td>2010</td>\n",
       "    </tr>\n",
       "    <tr>\n",
       "      <th>3</th>\n",
       "      <td>Fight Club</td>\n",
       "      <td>8.8</td>\n",
       "      <td>66</td>\n",
       "      <td>1473065</td>\n",
       "      <td>37023395</td>\n",
       "      <td>1999</td>\n",
       "    </tr>\n",
       "    <tr>\n",
       "      <th>4</th>\n",
       "      <td>Pulp Fiction</td>\n",
       "      <td>8.9</td>\n",
       "      <td>94</td>\n",
       "      <td>1438920</td>\n",
       "      <td>107930000</td>\n",
       "      <td>1994</td>\n",
       "    </tr>\n",
       "  </tbody>\n",
       "</table>\n",
       "</div>"
      ],
      "text/plain": [
       "                      movie  imdb  metascore    votes      gross  year\n",
       "0  The Shawshank Redemption   9.3         80  1838073   28341469  1994\n",
       "1           The Dark Knight   9.0         82  1817974  533316061  2008\n",
       "2                 Inception   8.8         74  1608158  292568851  2010\n",
       "3                Fight Club   8.8         66  1473065   37023395  1999\n",
       "4              Pulp Fiction   8.9         94  1438920  107930000  1994"
      ]
     },
     "execution_count": 10,
     "metadata": {},
     "output_type": "execute_result"
    }
   ],
   "source": [
    "df.head()"
   ]
  },
  {
   "cell_type": "code",
   "execution_count": 22,
   "metadata": {
    "collapsed": true
   },
   "outputs": [],
   "source": [
    "df.to_csv('movie_by_votes.csv')"
   ]
  },
  {
   "cell_type": "code",
   "execution_count": 23,
   "metadata": {
    "collapsed": true
   },
   "outputs": [],
   "source": [
    "df2 = pd.read_csv('movie_by_votes.csv', index_col=0)"
   ]
  },
  {
   "cell_type": "code",
   "execution_count": 24,
   "metadata": {
    "collapsed": false
   },
   "outputs": [
    {
     "data": {
      "text/html": [
       "<div>\n",
       "<style>\n",
       "    .dataframe thead tr:only-child th {\n",
       "        text-align: right;\n",
       "    }\n",
       "\n",
       "    .dataframe thead th {\n",
       "        text-align: left;\n",
       "    }\n",
       "\n",
       "    .dataframe tbody tr th {\n",
       "        vertical-align: top;\n",
       "    }\n",
       "</style>\n",
       "<table border=\"1\" class=\"dataframe\">\n",
       "  <thead>\n",
       "    <tr style=\"text-align: right;\">\n",
       "      <th></th>\n",
       "      <th>movie</th>\n",
       "      <th>imdb</th>\n",
       "      <th>metascore</th>\n",
       "      <th>votes</th>\n",
       "      <th>gross</th>\n",
       "      <th>year</th>\n",
       "    </tr>\n",
       "  </thead>\n",
       "  <tbody>\n",
       "    <tr>\n",
       "      <th>0</th>\n",
       "      <td>The Shawshank Redemption</td>\n",
       "      <td>9.3</td>\n",
       "      <td>80</td>\n",
       "      <td>1838073</td>\n",
       "      <td>28341469</td>\n",
       "      <td>1994</td>\n",
       "    </tr>\n",
       "    <tr>\n",
       "      <th>1</th>\n",
       "      <td>The Dark Knight</td>\n",
       "      <td>9.0</td>\n",
       "      <td>82</td>\n",
       "      <td>1817974</td>\n",
       "      <td>533316061</td>\n",
       "      <td>2008</td>\n",
       "    </tr>\n",
       "    <tr>\n",
       "      <th>2</th>\n",
       "      <td>Inception</td>\n",
       "      <td>8.8</td>\n",
       "      <td>74</td>\n",
       "      <td>1608158</td>\n",
       "      <td>292568851</td>\n",
       "      <td>2010</td>\n",
       "    </tr>\n",
       "    <tr>\n",
       "      <th>3</th>\n",
       "      <td>Fight Club</td>\n",
       "      <td>8.8</td>\n",
       "      <td>66</td>\n",
       "      <td>1473065</td>\n",
       "      <td>37023395</td>\n",
       "      <td>1999</td>\n",
       "    </tr>\n",
       "    <tr>\n",
       "      <th>4</th>\n",
       "      <td>Pulp Fiction</td>\n",
       "      <td>8.9</td>\n",
       "      <td>94</td>\n",
       "      <td>1438920</td>\n",
       "      <td>107930000</td>\n",
       "      <td>1994</td>\n",
       "    </tr>\n",
       "  </tbody>\n",
       "</table>\n",
       "</div>"
      ],
      "text/plain": [
       "                      movie  imdb  metascore    votes      gross  year\n",
       "0  The Shawshank Redemption   9.3         80  1838073   28341469  1994\n",
       "1           The Dark Knight   9.0         82  1817974  533316061  2008\n",
       "2                 Inception   8.8         74  1608158  292568851  2010\n",
       "3                Fight Club   8.8         66  1473065   37023395  1999\n",
       "4              Pulp Fiction   8.9         94  1438920  107930000  1994"
      ]
     },
     "execution_count": 24,
     "metadata": {},
     "output_type": "execute_result"
    }
   ],
   "source": [
    "df2.head()"
   ]
  },
  {
   "cell_type": "code",
   "execution_count": null,
   "metadata": {
    "collapsed": true
   },
   "outputs": [],
   "source": []
  }
 ],
 "metadata": {
  "kernelspec": {
   "display_name": "Python 3",
   "language": "python",
   "name": "python3"
  },
  "language_info": {
   "codemirror_mode": {
    "name": "ipython",
    "version": 3
   },
   "file_extension": ".py",
   "mimetype": "text/x-python",
   "name": "python",
   "nbconvert_exporter": "python",
   "pygments_lexer": "ipython3",
   "version": "3.6.0"
  }
 },
 "nbformat": 4,
 "nbformat_minor": 2
}
