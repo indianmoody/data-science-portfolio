{
 "cells": [
  {
   "cell_type": "markdown",
   "metadata": {},
   "source": [
    "# Univariate Analysis  \n",
    "\n",
    "### Must Drop List\n",
    "* Id: irrelevant\n",
    "* Street: extremely non-uniform categorical data\n",
    "* Utiities: extremely non-uniform categorical data\n",
    "* \n",
    "\n",
    "### Variable Data Type Correction\n",
    "* MSSubClass: ordinal to nominal. \n",
    "* \n",
    "  \n",
    "### Nominal Categorical Distribution \n",
    "* MSSubClass:non-uniform\n",
    "* MSZoning: highly non-uniform\n",
    "* Street: extremely non-uniform. Should be dropped.\n",
    "* Alley: highly non-uniform\n",
    "* LotShape: highly non-uniform\n",
    "* LotContour: highly non-uniform\n",
    "* Utilities: extremely non-uniform. No data for 3/4 categories. Must be dropped.\n",
    "* LotConfig: highly non-uniform\n",
    "* LandSlope: highly non-uniform\n",
    "* Neighborhood: non-uniform\n",
    "* Condition1: highly non-uniform\n",
    "* Condition2: extremely non-uniform, see misc 1\n",
    "\n",
    "### Ordinal Categorical Distribution\n",
    "* \n",
    "\n",
    "### Continuous Distribution\n",
    "* LotFrontage: Highly right skew with many outliers. \n",
    "* LotArea: Highly right skew with many outliers.\n",
    "* \n",
    "\n",
    "### Missing Values notes\n",
    "* Alley: Missing values should be considered as \"No Alley Available\", i.e. \"NoAlley\"\n",
    "* \n",
    "\n",
    "\n",
    "\n",
    "### Miscellaneous\n",
    "1. If categorical variable is extremely non-uniformly distributed. But minority values bring significant change in target variable. What should be done?\n",
    "\n"
   ]
  },
  {
   "cell_type": "code",
   "execution_count": null,
   "metadata": {
    "collapsed": true
   },
   "outputs": [],
   "source": []
  }
 ],
 "metadata": {
  "kernelspec": {
   "display_name": "Python 3",
   "language": "python",
   "name": "python3"
  },
  "language_info": {
   "codemirror_mode": {
    "name": "ipython",
    "version": 3
   },
   "file_extension": ".py",
   "mimetype": "text/x-python",
   "name": "python",
   "nbconvert_exporter": "python",
   "pygments_lexer": "ipython3",
   "version": "3.6.0"
  }
 },
 "nbformat": 4,
 "nbformat_minor": 2
}
