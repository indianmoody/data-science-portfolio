{
 "cells": [
  {
   "cell_type": "code",
   "execution_count": 1,
   "metadata": {
    "collapsed": true
   },
   "outputs": [],
   "source": [
    "import numpy as np\n",
    "import pandas as pd\n",
    "import matplotlib.pyplot as plt\n",
    "import seaborn as sns\n",
    "%matplotlib inline"
   ]
  },
  {
   "cell_type": "code",
   "execution_count": 28,
   "metadata": {
    "collapsed": false
   },
   "outputs": [
    {
     "name": "stderr",
     "output_type": "stream",
     "text": [
      "/anaconda/lib/python3.6/site-packages/statsmodels/compat/pandas.py:56: FutureWarning: The pandas.core.datetools module is deprecated and will be removed in a future version. Please use the pandas.tseries module instead.\n",
      "  from pandas.core import datetools\n"
     ]
    }
   ],
   "source": [
    "import statsmodels.api as sm\n",
    "from statsmodels.formula.api import ols"
   ]
  },
  {
   "cell_type": "code",
   "execution_count": 2,
   "metadata": {
    "collapsed": true
   },
   "outputs": [],
   "source": [
    "sns.set_style(\"whitegrid\")"
   ]
  },
  {
   "cell_type": "code",
   "execution_count": 3,
   "metadata": {
    "collapsed": true
   },
   "outputs": [],
   "source": [
    "ames = pd.read_csv(\"data/train.csv\")"
   ]
  },
  {
   "cell_type": "markdown",
   "metadata": {},
   "source": [
    "### Nominal and Ordinal Variable Lists"
   ]
  },
  {
   "cell_type": "code",
   "execution_count": 5,
   "metadata": {
    "collapsed": false
   },
   "outputs": [
    {
     "data": {
      "text/plain": [
       "Index(['MSZoning', 'Street', 'Alley', 'LotShape', 'LandContour', 'Utilities',\n",
       "       'LotConfig', 'LandSlope', 'Neighborhood', 'Condition1', 'Condition2',\n",
       "       'BldgType', 'HouseStyle', 'RoofStyle', 'RoofMatl', 'Exterior1st',\n",
       "       'Exterior2nd', 'MasVnrType', 'ExterQual', 'ExterCond', 'Foundation',\n",
       "       'BsmtQual', 'BsmtCond', 'BsmtExposure', 'BsmtFinType1', 'BsmtFinType2',\n",
       "       'Heating', 'HeatingQC', 'CentralAir', 'Electrical', 'KitchenQual',\n",
       "       'Functional', 'FireplaceQu', 'GarageType', 'GarageFinish', 'GarageQual',\n",
       "       'GarageCond', 'PavedDrive', 'PoolQC', 'Fence', 'MiscFeature',\n",
       "       'SaleType', 'SaleCondition'],\n",
       "      dtype='object')"
      ]
     },
     "execution_count": 5,
     "metadata": {},
     "output_type": "execute_result"
    }
   ],
   "source": [
    "ames.select_dtypes(include='object').columns"
   ]
  },
  {
   "cell_type": "markdown",
   "metadata": {
    "collapsed": false
   },
   "source": [
    "Create list of nominal features, tally with univariate analysis notes and update it."
   ]
  },
  {
   "cell_type": "code",
   "execution_count": 23,
   "metadata": {
    "collapsed": false
   },
   "outputs": [],
   "source": [
    "nominal_list = list(ames.select_dtypes(include='object').columns)\n",
    "nominal_list.extend(['MSSubClass','MoSold','YrSold'])\n",
    "nominal_fp = ['BsmtQual','BsmtCond','BsmtExposure','BsmtFinType1','BsmtFinType2','HeatingQC','KitchenQual','FireplaceQu','PoolQC','Fence']\n",
    "nominal_list = [x for x in nominal_list if x not in nominal_fp]\n",
    "\n",
    "ordinal_list = nominal_fp.copy()\n",
    "ordinal_list.extend(['OverallQual','OverallCond','BsmtFullBath','BsmtHalfBath','FullBath','HalfBath','BedroomAbvGr','KitchenAbvGr','Fireplaces','GarageCars'])"
   ]
  },
  {
   "cell_type": "code",
   "execution_count": 24,
   "metadata": {
    "collapsed": false
   },
   "outputs": [
    {
     "data": {
      "text/plain": [
       "(20, 36)"
      ]
     },
     "execution_count": 24,
     "metadata": {},
     "output_type": "execute_result"
    }
   ],
   "source": [
    "len(ordinal_list), len(nominal_list)"
   ]
  },
  {
   "cell_type": "markdown",
   "metadata": {
    "collapsed": true
   },
   "source": [
    "---"
   ]
  },
  {
   "cell_type": "markdown",
   "metadata": {
    "collapsed": true
   },
   "source": [
    "### ANOVA Function"
   ]
  },
  {
   "cell_type": "code",
   "execution_count": 25,
   "metadata": {
    "collapsed": true
   },
   "outputs": [],
   "source": [
    "def anova_result(feat, target, df):\n",
    "    df_lm = ols(target + ' ~ ' + feat, data=df).fit()\n",
    "    print(feat+\":\")\n",
    "    print(sm.stats.anova_lm(df_lm, typ=2))"
   ]
  },
  {
   "cell_type": "markdown",
   "metadata": {},
   "source": [
    "### Check ANOVA to determine if a nominal feature needs to be dropped"
   ]
  },
  {
   "cell_type": "code",
   "execution_count": 30,
   "metadata": {
    "collapsed": true
   },
   "outputs": [],
   "source": [
    "# list of nominal features need to be checked further (boxplot), before adding into drop list\n",
    "nominal_check_list = []\n",
    "# drop list for nominal features\n",
    "nominal_drop = []"
   ]
  },
  {
   "cell_type": "code",
   "execution_count": 29,
   "metadata": {
    "collapsed": false
   },
   "outputs": [
    {
     "name": "stdout",
     "output_type": "stream",
     "text": [
      "MSZoning:\n",
      "                sum_sq      df          F        PR(>F)\n",
      "MSZoning  9.904000e+11     4.0  43.840282  8.817634e-35\n",
      "Residual  8.217511e+12  1455.0        NaN           NaN\n",
      "Street:\n",
      "                sum_sq      df        F    PR(>F)\n",
      "Street    1.550534e+10     1.0  2.45929  0.117049\n",
      "Residual  9.192406e+12  1458.0      NaN       NaN\n",
      "Alley:\n",
      "                sum_sq    df         F        PR(>F)\n",
      "Alley     4.721637e+10   1.0  35.56206  4.899826e-08\n",
      "Residual  1.181669e+11  89.0       NaN           NaN\n",
      "LotShape:\n",
      "                sum_sq      df          F        PR(>F)\n",
      "LotShape  7.032607e+11     3.0  40.132852  6.447524e-25\n",
      "Residual  8.504651e+12  1456.0        NaN           NaN\n",
      "LandContour:\n",
      "                   sum_sq      df          F        PR(>F)\n",
      "LandContour  2.375097e+11     3.0  12.850188  2.742217e-08\n",
      "Residual     8.970402e+12  1456.0        NaN           NaN\n",
      "Utilities:\n",
      "                 sum_sq      df         F    PR(>F)\n",
      "Utilities  1.886693e+09     1.0  0.298804  0.584717\n",
      "Residual   9.206025e+12  1458.0       NaN       NaN\n",
      "LotConfig:\n",
      "                 sum_sq      df         F    PR(>F)\n",
      "LotConfig  1.935444e+11     4.0  7.809954  0.000003\n",
      "Residual   9.014367e+12  1455.0       NaN       NaN\n",
      "LandSlope:\n",
      "                 sum_sq      df         F    PR(>F)\n",
      "LandSlope  2.469217e+10     2.0  1.958817  0.141396\n",
      "Residual   9.183219e+12  1457.0       NaN       NaN\n",
      "Neighborhood:\n",
      "                    sum_sq      df          F         PR(>F)\n",
      "Neighborhood  5.023606e+12    24.0  71.784865  1.558600e-225\n",
      "Residual      4.184305e+12  1435.0        NaN            NaN\n",
      "Condition1:\n",
      "                  sum_sq      df         F        PR(>F)\n",
      "Condition1  3.004600e+11     8.0  6.118017  8.904549e-08\n",
      "Residual    8.907451e+12  1451.0       NaN           NaN\n"
     ]
    }
   ],
   "source": [
    "for feature in nominal_list[:10]:\n",
    "    anova_result(feature,'SalePrice',ames)"
   ]
  },
  {
   "cell_type": "code",
   "execution_count": 31,
   "metadata": {
    "collapsed": true
   },
   "outputs": [],
   "source": [
    "nominal_check_list.extend(['Street','Utilities','LandSlope'])"
   ]
  },
  {
   "cell_type": "code",
   "execution_count": 32,
   "metadata": {
    "collapsed": false
   },
   "outputs": [
    {
     "name": "stdout",
     "output_type": "stream",
     "text": [
      "Condition2:\n",
      "                  sum_sq      df         F    PR(>F)\n",
      "Condition2  9.115059e+10     7.0  2.073899  0.043426\n",
      "Residual    9.116761e+12  1452.0       NaN       NaN\n",
      "BldgType:\n",
      "                sum_sq      df          F        PR(>F)\n",
      "BldgType  3.179863e+11     4.0  13.011077  2.056736e-10\n",
      "Residual  8.889925e+12  1455.0        NaN           NaN\n",
      "HouseStyle:\n",
      "                  sum_sq      df          F        PR(>F)\n",
      "HouseStyle  7.947590e+11     7.0  19.595001  3.376777e-25\n",
      "Residual    8.413152e+12  1452.0        NaN           NaN\n",
      "RoofStyle:\n",
      "                 sum_sq      df          F        PR(>F)\n",
      "RoofStyle  5.312655e+11     5.0  17.805497  3.653523e-17\n",
      "Residual   8.676646e+12  1454.0        NaN           NaN\n",
      "RoofMatl:\n",
      "                sum_sq      df         F        PR(>F)\n",
      "RoofMatl  2.892493e+11     7.0  6.727305  7.231445e-08\n",
      "Residual  8.918662e+12  1452.0       NaN           NaN\n",
      "Exterior1st:\n",
      "                   sum_sq      df          F        PR(>F)\n",
      "Exterior1st  1.406721e+12    14.0  18.611743  2.586089e-43\n",
      "Residual     7.801190e+12  1445.0        NaN           NaN\n",
      "Exterior2nd:\n",
      "                   sum_sq      df         F        PR(>F)\n",
      "Exterior2nd  1.416452e+12    15.0  17.50084  4.842186e-43\n",
      "Residual     7.791460e+12  1444.0       NaN           NaN\n",
      "MasVnrType:\n",
      "                  sum_sq      df          F        PR(>F)\n",
      "MasVnrType  1.713827e+12     3.0  111.67238  4.793331e-65\n",
      "Residual    7.407445e+12  1448.0        NaN           NaN\n",
      "ExterQual:\n",
      "                 sum_sq      df           F         PR(>F)\n",
      "ExterQual  4.395744e+12     3.0  443.334831  1.439551e-204\n",
      "Residual   4.812167e+12  1456.0         NaN            NaN\n",
      "ExterCond:\n",
      "                 sum_sq      df         F        PR(>F)\n",
      "ExterCond  2.174690e+11     4.0  8.798714  5.106681e-07\n",
      "Residual   8.990442e+12  1455.0       NaN           NaN\n"
     ]
    }
   ],
   "source": [
    "for feature in nominal_list[10:20]:\n",
    "    anova_result(feature,'SalePrice',ames)"
   ]
  },
  {
   "cell_type": "code",
   "execution_count": 33,
   "metadata": {
    "collapsed": false
   },
   "outputs": [
    {
     "name": "stdout",
     "output_type": "stream",
     "text": [
      "Foundation:\n",
      "                  sum_sq      df           F        PR(>F)\n",
      "Foundation  2.360618e+12     5.0  100.253851  5.791895e-91\n",
      "Residual    6.847294e+12  1454.0         NaN           NaN\n",
      "Heating:\n",
      "                sum_sq      df         F    PR(>F)\n",
      "Heating   1.329359e+11     5.0  4.259819  0.000753\n",
      "Residual  9.074975e+12  1454.0       NaN       NaN\n",
      "CentralAir:\n",
      "                  sum_sq      df          F        PR(>F)\n",
      "CentralAir  5.816255e+11     1.0  98.305344  1.809506e-22\n",
      "Residual    8.626286e+12  1458.0        NaN           NaN\n",
      "Electrical:\n",
      "                  sum_sq      df          F        PR(>F)\n",
      "Electrical  5.494534e+11     4.0  23.067673  1.663249e-18\n",
      "Residual    8.658278e+12  1454.0        NaN           NaN\n",
      "Functional:\n",
      "                  sum_sq      df         F    PR(>F)\n",
      "Functional  1.517499e+11     6.0  4.057875  0.000484\n",
      "Residual    9.056161e+12  1453.0       NaN       NaN\n",
      "GarageType:\n",
      "                  sum_sq      df          F        PR(>F)\n",
      "GarageType  1.778186e+12     5.0  71.522123  1.247154e-66\n",
      "Residual    6.827115e+12  1373.0        NaN           NaN\n",
      "GarageFinish:\n",
      "                    sum_sq      df           F        PR(>F)\n",
      "GarageFinish  2.299993e+12     2.0  250.962467  1.199117e-93\n",
      "Residual      6.305307e+12  1376.0         NaN           NaN\n",
      "GarageQual:\n",
      "                  sum_sq      df         F        PR(>F)\n",
      "GarageQual  2.332568e+11     4.0  9.570389  1.240803e-07\n",
      "Residual    8.372044e+12  1374.0       NaN           NaN\n",
      "GarageCond:\n",
      "                  sum_sq      df         F        PR(>F)\n",
      "GarageCond  2.325637e+11     4.0  9.541161  1.309714e-07\n",
      "Residual    8.372737e+12  1374.0       NaN           NaN\n",
      "PavedDrive:\n",
      "                  sum_sq      df          F        PR(>F)\n",
      "PavedDrive  5.021970e+11     2.0  42.024179  1.803569e-18\n",
      "Residual    8.705714e+12  1457.0        NaN           NaN\n"
     ]
    }
   ],
   "source": [
    "for feature in nominal_list[20:30]:\n",
    "    anova_result(feature,'SalePrice',ames)"
   ]
  },
  {
   "cell_type": "code",
   "execution_count": 34,
   "metadata": {
    "collapsed": false
   },
   "outputs": [
    {
     "name": "stdout",
     "output_type": "stream",
     "text": [
      "MiscFeature:\n",
      "                   sum_sq    df         F    PR(>F)\n",
      "MiscFeature  1.705983e+10   3.0  2.157324  0.104728\n",
      "Residual     1.317978e+11  50.0       NaN       NaN\n",
      "SaleType:\n",
      "                sum_sq      df          F        PR(>F)\n",
      "SaleType  1.264131e+12     8.0  28.863054  5.039767e-42\n",
      "Residual  7.943780e+12  1451.0        NaN           NaN\n",
      "SaleCondition:\n",
      "                     sum_sq      df          F        PR(>F)\n",
      "SaleCondition  1.247649e+12     5.0  45.578428  7.988268e-44\n",
      "Residual       7.960263e+12  1454.0        NaN           NaN\n",
      "MSSubClass:\n",
      "                  sum_sq      df          F    PR(>F)\n",
      "MSSubClass  6.541130e+10     1.0  10.431466  0.001266\n",
      "Residual    9.142500e+12  1458.0        NaN       NaN\n",
      "MoSold:\n",
      "                sum_sq      df         F    PR(>F)\n",
      "MoSold    1.985183e+10     1.0  3.150172  0.076128\n",
      "Residual  9.188060e+12  1458.0       NaN       NaN\n",
      "YrSold:\n",
      "                sum_sq      df         F    PR(>F)\n",
      "YrSold    7.702565e+09     1.0  1.220661  0.269413\n",
      "Residual  9.200209e+12  1458.0       NaN       NaN\n"
     ]
    }
   ],
   "source": [
    "for feature in nominal_list[30:]:\n",
    "    anova_result(feature,'SalePrice',ames)"
   ]
  },
  {
   "cell_type": "code",
   "execution_count": 35,
   "metadata": {
    "collapsed": true
   },
   "outputs": [],
   "source": [
    "nominal_check_list.extend(['MiscFeature','MoSold','YrSold'])"
   ]
  },
  {
   "cell_type": "markdown",
   "metadata": {},
   "source": [
    "**Examine nominal_check_list to filter features into nominal_drop_list**"
   ]
  },
  {
   "cell_type": "code",
   "execution_count": 36,
   "metadata": {
    "collapsed": false
   },
   "outputs": [
    {
     "data": {
      "image/png": "[encoded data removed]",
      "text/plain": [
       "<matplotlib.figure.Figure at 0x11597ec50>"
      ]
     },
     "metadata": {},
     "output_type": "display_data"
    }
   ],
   "source": [
    "fig1, ax1 = plt.subplots(nrows=3, ncols=2, figsize=(14,14))\n",
    "for i in range(0,6):\n",
    "    ames.boxplot(column='SalePrice',by=nominal_check_list[i],sym='k.', ax=ax1[i//2,i%2], showmeans=True)"
   ]
  },
  {
   "cell_type": "markdown",
   "metadata": {},
   "source": [
    "**Street**: extremely non-uniform distribution. And not much difference of SalePrice between categories. Drop.  \n",
    "**Utilities**: Strong ANOVA value. all except one observations belong to just one category. Drop.  \n",
    "**LandSlope**: extremely non-uniform distribution. All outliers belong to predominant category. Drop."
   ]
  },
  {
   "cell_type": "code",
   "execution_count": 38,
   "metadata": {
    "collapsed": false
   },
   "outputs": [
    {
     "name": "stderr",
     "output_type": "stream",
     "text": [
      "/anaconda/lib/python3.6/site-packages/seaborn/categorical.py:454: FutureWarning: remove_na is deprecated and is a private function. Do not use.\n",
      "  box_data = remove_na(group_data)\n"
     ]
    },
    {
     "data": {
      "text/plain": [
       "<matplotlib.axes._subplots.AxesSubplot at 0x11733cd68>"
      ]
     },
     "execution_count": 38,
     "metadata": {},
     "output_type": "execute_result"
    },
    {
     "data": {
      "image/png": "[encoded data removed]",
      "text/plain": [
       "<matplotlib.figure.Figure at 0x115950cc0>"
      ]
     },
     "metadata": {},
     "output_type": "display_data"
    }
   ],
   "source": [
    "sns.boxplot(ames['MiscFeature'].apply(lambda x: 'NA' if pd.isnull(x) else x), ames['SalePrice'])"
   ]
  },
  {
   "cell_type": "markdown",
   "metadata": {},
   "source": [
    "**MiscFeature**: most values are missing = \"no misc feature\". adding this as a category also shows no difference in means. Drop.  \n",
    "**MoSold**: Drop.  \n",
    "**YrSold**: Drop."
   ]
  },
  {
   "cell_type": "code",
   "execution_count": 39,
   "metadata": {
    "collapsed": true
   },
   "outputs": [],
   "source": [
    "nominal_drop = nominal_check_list.copy()"
   ]
  },
  {
   "cell_type": "code",
   "execution_count": null,
   "metadata": {
    "collapsed": true
   },
   "outputs": [],
   "source": []
  }
 ],
 "metadata": {
  "kernelspec": {
   "display_name": "Python 3",
   "language": "python",
   "name": "python3"
  },
  "language_info": {
   "codemirror_mode": {
    "name": "ipython",
    "version": 3
   },
   "file_extension": ".py",
   "mimetype": "text/x-python",
   "name": "python",
   "nbconvert_exporter": "python",
   "pygments_lexer": "ipython3",
   "version": "3.6.0"
  }
 },
 "nbformat": 4,
 "nbformat_minor": 2
}
